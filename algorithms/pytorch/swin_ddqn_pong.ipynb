{
 "cells": [
  {
   "cell_type": "code",
   "execution_count": 1,
   "metadata": {
    "ExecuteTime": {
     "start_time": "2023-04-23T14:18:18.513430Z",
     "end_time": "2023-04-23T14:18:22.840605Z"
    }
   },
   "outputs": [
    {
     "name": "stdout",
     "output_type": "stream",
     "text": [
      "[Warning] Fused window process have not been installed. Please refer to get_started.md for installation.\n",
      "Tutel has not been installed. To use Swin-MoE, please install Tutel; otherwise, just ignore this.\n"
     ]
    }
   ],
   "source": [
    "import os\n",
    "import time\n",
    "import re\n",
    "from typing import List\n",
    "from datetime import datetime\n",
    "import numpy as np\n",
    "\n",
    "import gymnasium as gym\n",
    "from gymnasium.wrappers import AtariPreprocessing, FrameStack, RecordEpisodeStatistics, RecordVideo\n",
    "\n",
    "from stable_baselines3.common.buffers import ReplayBuffer\n",
    "from stable_baselines3.common.save_util import load_from_pkl, save_to_pkl\n",
    "\n",
    "import torch\n",
    "import torch.nn as nn\n",
    "\n",
    "from common.swin_transformer.models.swin_transformer import SwinTransformer\n",
    "\n",
    "from torch.utils.tensorboard import SummaryWriter\n",
    "from typing import Dict\n",
    "\n",
    "device = torch.device(\"cuda\" if torch.cuda.is_available() else \"cpu\")"
   ]
  },
  {
   "cell_type": "code",
   "execution_count": 2,
   "metadata": {
    "ExecuteTime": {
     "start_time": "2023-04-23T14:18:22.548399Z",
     "end_time": "2023-04-23T14:18:22.840751Z"
    }
   },
   "outputs": [],
   "source": [
    "def step_trigger(step: int):\n",
    "    return step % 400_000 == 0\n",
    "\n",
    "def make_env(env_name=\"ALE/Pong-v5\", seed=42, record_video=True):\n",
    "    env = gym.make(env_name, render_mode=\"rgb_array\", full_action_space=False, frameskip=1)\n",
    "    env = AtariPreprocessing(env)\n",
    "    env = FrameStack(env, 4)\n",
    "    env = RecordEpisodeStatistics(env)\n",
    "    if record_video:\n",
    "        # A video will be recorded every 400,000 steps.\n",
    "        env = RecordVideo(env, \"runs/videos/\", step_trigger=step_trigger, video_length=1000)\n",
    "    env.observation_space.seed(seed)\n",
    "    env.action_space.seed(seed)\n",
    "\n",
    "    return env"
   ]
  },
  {
   "cell_type": "code",
   "execution_count": 3,
   "metadata": {
    "ExecuteTime": {
     "start_time": "2023-04-23T14:18:22.553002Z",
     "end_time": "2023-04-23T14:18:22.840946Z"
    }
   },
   "outputs": [],
   "source": [
    "class SwinDQN(nn.Module):\n",
    "    def __init__(self, num_channels, num_actions):\n",
    "        super(SwinDQN, self).__init__()\n",
    "\n",
    "        self.swin = SwinTransformer(\n",
    "            img_size=84,\n",
    "            in_chans=num_channels,\n",
    "            num_classes=num_actions,\n",
    "            depths=[2, 3, 2],\n",
    "            num_heads=[3, 3, 6],\n",
    "            patch_size=3,\n",
    "            window_size=7,\n",
    "            embed_dim=96,\n",
    "            mlp_ratio=4,\n",
    "            drop_path_rate=0.1\n",
    "        )\n",
    "\n",
    "    def forward(self, x):\n",
    "        x = x.float() / 255  # Rescale input from [0, 255] to [0, 1]\n",
    "        return self.swin(x)"
   ]
  },
  {
   "cell_type": "markdown",
   "metadata": {},
   "source": [
    "- **policy network**: $Q^{A}_{\\theta}$\n",
    "- **target network**: $Q^{B}_{\\theta}$"
   ]
  },
  {
   "cell_type": "code",
   "execution_count": 4,
   "metadata": {
    "ExecuteTime": {
     "start_time": "2023-04-23T14:18:22.843902Z",
     "end_time": "2023-04-23T14:18:23.035501Z"
    }
   },
   "outputs": [],
   "source": [
    "def linear_schedule(start_epsilon: float, end_epsilon: float, duration: int, timestep: int):\n",
    "    slope = (end_epsilon - start_epsilon) / duration\n",
    "    return max(slope * timestep + start_epsilon, end_epsilon)"
   ]
  },
  {
   "cell_type": "code",
   "execution_count": 5,
   "metadata": {
    "ExecuteTime": {
     "start_time": "2023-04-23T14:18:24.533789Z",
     "end_time": "2023-04-23T14:18:24.567227Z"
    }
   },
   "outputs": [],
   "source": [
    "def get_latest_checkpoint_file(files: List[str]) -> any:\n",
    "    \"\"\"\n",
    "    Return the most recent checkpoint file from the passed list of files.\n",
    "\n",
    "    If multiple files with same datetime are passed, only the first is returned\n",
    "\n",
    "    :param files: list of file names containing a formatted datetime (=> %d-%m-%Y_%H:%M:%S)\n",
    "    :return: the file with the most recent date time or ``None`` if no files were found (because of the lack of correctly formatted date in the file name)\n",
    "    \"\"\"\n",
    "    datetime_regex = r\"\\d{2}-\\d{2}-\\d{4}_\\d{2}:\\d{2}:\\d{2}\"\n",
    "\n",
    "    latest_file = None\n",
    "    latest_datetime = datetime.min\n",
    "    for file in files:\n",
    "        match = re.search(datetime_regex, file)\n",
    "        if not match: continue # Go to next element in list if no match is found\n",
    "\n",
    "        file_datetime = datetime.strptime(match.group(), \"%d-%m-%Y_%H:%M:%S\")\n",
    "        if file_datetime > latest_datetime:\n",
    "            latest_datetime = file_datetime\n",
    "            latest_file = file\n",
    "\n",
    "    return latest_file\n",
    "\n",
    "\n",
    "class DQNAgent:\n",
    "    def __init__(self, name=\"CNN_DDQN_Pong-v5\", env_name=\"ALE/Pong-v5\"):\n",
    "        self.name = name\n",
    "\n",
    "        self.env = make_env(env_name)\n",
    "\n",
    "        self.start_datetime = None\n",
    "        self.start_time = None\n",
    "\n",
    "        # I use the same hyperparameters as this model: https://huggingface.co/sb3/dqn-PongNoFrameskip-v4\n",
    "\n",
    "        self.MAX_TIMESTEPS = 10_000_000  # Maximum number of total steps\n",
    "        self.TARGET_UPDATE_INTERVAL = 1000  # Number of steps between the synchronisation of q and target network\n",
    "        self.LEARNING_STARTS = 100_000  # The number of steps to wait before we start the training, so the agent can explore and store its experience in the replay buffer\n",
    "\n",
    "        self.TRAIN_FREQUENCY = 4 # Training is done each 4 steps\n",
    "\n",
    "        self.CHECKPOINT_INTERVAL_EPISODE = 500 # Checkpoint saving interval per episode (a checkpoint will be saved each X episodes)\n",
    "        \n",
    "        self.REPLAY_SIZE = 10_000\n",
    "        self.BATCH_SIZE = 32\n",
    "\n",
    "        self.GAMMA = 0.99  # Discount rate\n",
    "\n",
    "        self.EXPLORATION_FRACTION = 0.1  # The fraction of 'TOTAL_TIMESTEPS' it takes from 'EPSILON_START' to 'EPSILON_END'.\n",
    "        self.EPSILON_INITIAL = 1.0\n",
    "        self.EPSILON_FINAL = 0.01\n",
    "\n",
    "        self.epsilon = self.EPSILON_INITIAL  # Exploration probability\n",
    "\n",
    "        self.memory = ReplayBuffer(\n",
    "            buffer_size=self.REPLAY_SIZE,\n",
    "            observation_space=self.env.observation_space,\n",
    "            action_space=self.env.action_space,\n",
    "            device=device,\n",
    "            optimize_memory_usage=True,\n",
    "            handle_timeout_termination=False\n",
    "        )\n",
    "\n",
    "        self.timesteps = 0\n",
    "\n",
    "        self.policy_network = SwinDQN(4, self.env.action_space.n).to(device)\n",
    "        self.target_network = SwinDQN(4, self.env.action_space.n).to(device)\n",
    "        self.target_network.load_state_dict(self.policy_network.state_dict())\n",
    "\n",
    "        self.optimizer = torch.optim.Adam(self.policy_network.parameters(), lr=0.0001)\n",
    "        self.loss_fn = nn.SmoothL1Loss()\n",
    "\n",
    "        # Metrics/Logs\n",
    "        self.PATH = \"runs\"\n",
    "        if not os.path.exists(self.PATH):\n",
    "            os.makedirs(self.PATH)\n",
    "\n",
    "        self.CHECKPOINTS_PATH = f\"{self.PATH}/checkpoints\"\n",
    "        self.LOGS_PATH = f\"{self.PATH}/logs\"\n",
    "        self.VIDEO_PATH = f\"{self.PATH}/videos\"\n",
    "\n",
    "        self.is_loaded_from_checkpoint = False\n",
    "        self.writer = None\n",
    "\n",
    "    def remember(self, observation, next_observation, action, reward, done, infos):\n",
    "        self.memory.add(observation, next_observation, action, reward, done, infos)\n",
    "\n",
    "    def act(self, state):\n",
    "        # Reduce epsilon when learning started\n",
    "        if self.timesteps >= self.LEARNING_STARTS:\n",
    "             # Minus LEARNING_STARTS to takes into account that learning only started after LEARNING_STARTS,\n",
    "             # and so we want to start reducing epsilon only when learning start\n",
    "            self.epsilon = linear_schedule(\n",
    "                self.EPSILON_INITIAL,\n",
    "                self.EPSILON_FINAL,\n",
    "                int(self.EXPLORATION_FRACTION * self.MAX_TIMESTEPS),\n",
    "                self.timesteps - self.LEARNING_STARTS\n",
    "            )\n",
    "\n",
    "        if self.timesteps < self.LEARNING_STARTS or np.random.rand() < self.epsilon:\n",
    "            # Random action\n",
    "            return np.array(self.env.action_space.sample())\n",
    "        else:\n",
    "            with torch.no_grad():\n",
    "                state_tensor = torch.tensor(np.array(state), device=device).unsqueeze(0)\n",
    "                q_values = self.policy_network(state_tensor)\n",
    "                return q_values.argmax(dim=1)[0].cpu().numpy()\n",
    "\n",
    "    def update_target_network(self):\n",
    "        self.target_network.load_state_dict(self.policy_network.state_dict())\n",
    "\n",
    "    def optimize_model(self):\n",
    "        minibatch = self.memory.sample(self.BATCH_SIZE)\n",
    "\n",
    "        # Calculate Q values for current states\n",
    "        # For each q_values, get the action according to the minibatch\n",
    "        q_values = self.policy_network(minibatch.observations).gather(1, minibatch.actions)\n",
    "\n",
    "        # Then, calculate the best actions for the next states, and return its indices\n",
    "        with torch.no_grad():\n",
    "            best_next_actions = self.policy_network(minibatch.next_observations).argmax(1).unsqueeze(1)\n",
    "\n",
    "        # Calculate the Q values for the next states using the target network, and return the action according to the best next action returned by the q network\n",
    "        target_next_q_values = self.target_network(minibatch.next_observations).gather(1, best_next_actions)\n",
    "\n",
    "        # Calculate the target Q values using Double DQN\n",
    "        target_q_values = minibatch.rewards + (1 - minibatch.dones) * self.GAMMA * target_next_q_values\n",
    "\n",
    "        # Compute the loss\n",
    "        loss = self.loss_fn(q_values, target_q_values)\n",
    "\n",
    "        # Compute metrics for loss\n",
    "        if self.timesteps % 100 == 0:\n",
    "            self.writer.add_scalar(\"train/loss\", loss, self.timesteps)\n",
    "            self.writer.add_scalar(\"train/q_values\", q_values.squeeze().mean().item(), self.timesteps)\n",
    "            steps_per_second = int(self.timesteps / (time.time() - self.start_time))\n",
    "            #print(\"Steps per second: \", steps_per_second)\n",
    "            self.writer.add_scalar(\"train/steps_per_second\", steps_per_second, self.timesteps)\n",
    "\n",
    "\n",
    "        # Optimise Q network\n",
    "        self.optimizer.zero_grad()\n",
    "        loss.backward()\n",
    "        self.optimizer.step()\n",
    "\n",
    "    def save_checkpoint(self):\n",
    "        if self.start_datetime is None:\n",
    "            print(\"SAVE_CHECKPOINT_ERROR: Training need to have started to save a checkpoint.\")\n",
    "            return\n",
    "\n",
    "        print(\"Saving checkpoint...\")\n",
    "        current_datetime_str = datetime.now().strftime(\"%d-%m-%Y_%H:%M:%S\")\n",
    "        start_datetime_str = self.start_datetime.strftime(\"%d-%m-%Y_%H:%M:%S\")\n",
    "\n",
    "        save_parent_directory = f\"{self.CHECKPOINTS_PATH}/{self.name}_{start_datetime_str}\"\n",
    "        save_path = save_parent_directory + \"/chkpt_\" + current_datetime_str + \".tar\"\n",
    "        replay_buffer_path = save_parent_directory + \"/replay_buffer_\" + current_datetime_str\n",
    "\n",
    "        if not os.path.exists(save_parent_directory):\n",
    "            os.makedirs(save_parent_directory)\n",
    "\n",
    "        checkpoint = {\n",
    "            \"env\": self.env,\n",
    "            \"timesteps\": self.timesteps,\n",
    "            \"start_datetime\": self.start_datetime,\n",
    "            \"epsilon\": self.epsilon,\n",
    "            \"policy_network\": self.policy_network.state_dict(),\n",
    "            \"target_network\": self.target_network.state_dict(),\n",
    "            \"optimizer\": self.optimizer.state_dict(),\n",
    "        }\n",
    "\n",
    "        torch.save(checkpoint, save_path)\n",
    "        # Saving the replay buffer will takes time! But it is needed to properly resume training\n",
    "        save_to_pkl(replay_buffer_path, self.memory, verbose=1)\n",
    "\n",
    "        print(f\"Checkpoint saved into {save_parent_directory}\")\n",
    "\n",
    "    def load_last_checkpoint(self, path):\n",
    "        \"\"\"\n",
    "        Load the last saved checkpoint found in the given ``path``\n",
    "\n",
    "        :param path: the path to the directory containing the checkpoint(s)\n",
    "        \"\"\"\n",
    "        print(f\"Loading most recent checkpoint from {path}\")\n",
    "        self.is_loaded_from_checkpoint = True\n",
    "\n",
    "        # Using list comprehension to filter directories and only get the files\n",
    "        files = [file for file in os.listdir(path) if os.path.isfile(os.path.join(path, file))]\n",
    "\n",
    "        checkpoint_files = [chkpt_file for chkpt_file in files if \"chkpt\" in chkpt_file]\n",
    "        replay_buffer_files = [chkpt_file for chkpt_file in files if \"replay_buffer\" in chkpt_file]\n",
    "\n",
    "        checkpoint_file = get_latest_checkpoint_file(checkpoint_files)\n",
    "        replay_buffer_file = get_latest_checkpoint_file(replay_buffer_files)\n",
    "\n",
    "        checkpoint: Dict[str, any] = torch.load(path + \"/\" + checkpoint_file)\n",
    "\n",
    "        self.env = checkpoint[\"env\"]\n",
    "        self.timesteps = checkpoint[\"timesteps\"]\n",
    "        self.start_datetime: datetime = checkpoint[\"start_datetime\"]\n",
    "        self.start_time = self.start_datetime.timestamp()\n",
    "\n",
    "        self.epsilon = checkpoint[\"epsilon\"]\n",
    "\n",
    "        self.policy_network.load_state_dict(checkpoint[\"policy_network\"])\n",
    "        self.target_network.load_state_dict(checkpoint[\"target_network\"])\n",
    "        self.optimizer.load_state_dict(checkpoint[\"optimizer\"])\n",
    "\n",
    "        self.memory: ReplayBuffer = load_from_pkl(path + \"/\" + replay_buffer_file)\n",
    "        print(\"Checkpoint successfully loaded, you can resume the training now.\")\n",
    "\n",
    "    def run(self):\n",
    "        # Either create a new SummaryWriter or resume from previous one\n",
    "        if not self.is_loaded_from_checkpoint:\n",
    "            current_datetime = datetime.now()\n",
    "            self.start_datetime = current_datetime\n",
    "            self.start_time = current_datetime.timestamp()\n",
    "\n",
    "        start_datetime_str = self.start_datetime.strftime(\"%d-%m-%Y_%H:%M:%S\")\n",
    "        self.writer = SummaryWriter(f\"{self.LOGS_PATH}/{self.name}_{start_datetime_str}\")\n",
    "        \n",
    "        video_folder_path = f\"{self.VIDEO_PATH}/{self.name}_{start_datetime_str}\"\n",
    "        if not os.path.exists(video_folder_path):\n",
    "            os.makedirs(video_folder_path)\n",
    "        self.env.video_folder = video_folder_path\n",
    "\n",
    "        while self.timesteps < self.MAX_TIMESTEPS:\n",
    "            state, _ = self.env.reset()\n",
    "            done = False\n",
    "\n",
    "            while not done:\n",
    "                self.timesteps += 1\n",
    "\n",
    "                action = self.act(state)\n",
    "                next_state, reward, terminated, truncated, info = self.env.step(action)\n",
    "                done = terminated or truncated\n",
    "\n",
    "                self.remember(state, next_state, action, reward, terminated, info)\n",
    "\n",
    "                if self.timesteps >= self.LEARNING_STARTS and self.timesteps % self.TRAIN_FREQUENCY == 0:\n",
    "                    self.optimize_model()\n",
    "\n",
    "                state = next_state\n",
    "\n",
    "                if done:\n",
    "                    mean_reward = np.mean(self.env.return_queue)\n",
    "                    length_reward = np.mean(self.env.length_queue)\n",
    "                    \n",
    "                    # Get episode statistics from info (\"episode\" key only exist when episode is done)\n",
    "                    episode_reward = info[\"episode\"][\"r\"]\n",
    "                    self.writer.add_scalar(\"rollout/episodic_return\", episode_reward, self.timesteps)\n",
    "                    self.writer.add_scalar(\"rollout/episodic_length\", info[\"episode\"][\"l\"], self.timesteps)\n",
    "\n",
    "                    self.writer.add_scalar(\"rollout/ep_len_mean\", length_reward, self.timesteps)\n",
    "                    self.writer.add_scalar(\"rollout/ep_rew_mean\", mean_reward, self.timesteps)\n",
    "\n",
    "                    self.writer.add_scalar(\"rollout/exploration_rate\", self.epsilon, self.timesteps)\n",
    "\n",
    "                    print(f\"Episode {self.env.episode_count} finished (timesteps: {self.timesteps}/{self.MAX_TIMESTEPS})\\n\"\n",
    "                          f\"Epsilon: {self.epsilon:.2f}, Episode reward: {episode_reward.item()}, Mean reward: {mean_reward:.2f}\")\n",
    "\n",
    "                    if self.env.episode_count % self.CHECKPOINT_INTERVAL_EPISODE == 0:\n",
    "                        self.save_checkpoint()\n",
    "                    print(\"***************************\")\n",
    "\n",
    "                if self.timesteps >= self.LEARNING_STARTS and self.timesteps % self.TARGET_UPDATE_INTERVAL == 0:\n",
    "                    self.update_target_network()\n",
    "                    #print(\"Target model updated.\")\n",
    "\n",
    "        self.save_checkpoint() # Save last checkpoint at the end of training\n",
    "\n",
    "        self.writer.flush()\n",
    "        self.writer.close()\n",
    "\n",
    "    def evaluate(self, max_eval_timesteps=250000, q_net_path: str = None):\n",
    "        start_datetime = datetime.now()\n",
    "\n",
    "        if q_net_path is not None:\n",
    "            trained_agent = torch.load(q_net_path)\n",
    "            self.policy_network.load_state_dict(trained_agent)\n",
    "\n",
    "        start_datetime_str = start_datetime.strftime(\"%d-%m-%Y_%H:%M:%S\")\n",
    "        self.writer = SummaryWriter(f\"{self.LOGS_PATH}/{self.name}_eval_{start_datetime_str}\")\n",
    "\n",
    "        video_folder_path = f\"{self.VIDEO_PATH}/{self.name}_eval_{start_datetime_str}\"\n",
    "        if not os.path.exists(video_folder_path):\n",
    "            os.makedirs(video_folder_path)\n",
    "        self.env.video_folder = video_folder_path\n",
    "\n",
    "        #self.env.step_trigger = None\n",
    "        self.env.step_trigger = lambda _: True\n",
    "        self.env.video_length = 0\n",
    "\n",
    "        while self.timesteps < max_eval_timesteps:\n",
    "            state, _ = self.env.reset()\n",
    "            done = False\n",
    "            while not done:\n",
    "                self.timesteps += 1\n",
    "                with torch.no_grad():\n",
    "                    state_tensor = torch.tensor(np.array(state), device=device).unsqueeze(0)\n",
    "                    q_values = self.policy_network(state_tensor)\n",
    "                    action = q_values.argmax(dim=1)[0].cpu().numpy()\n",
    "\n",
    "                state, reward, terminated, truncated, info = self.env.step(action)\n",
    "                done = terminated or truncated\n",
    "\n",
    "                if done:\n",
    "                    mean_reward = np.mean(self.env.return_queue)\n",
    "\n",
    "                    # Get episode statistics from info (\"episode\" key only exist when episode is done)\n",
    "                    episode_reward = info[\"episode\"][\"r\"]\n",
    "                    self.writer.add_scalar(\"rollout/episodic_return\", episode_reward, self.timesteps)\n",
    "                    self.writer.add_scalar(\"rollout/ep_rew_mean\", mean_reward, self.timesteps)"
   ]
  },
  {
   "cell_type": "code",
   "execution_count": null,
   "metadata": {
    "ExecuteTime": {
     "end_time": "2023-04-09T11:59:42.748900Z",
     "start_time": "2023-04-09T11:59:42.720987Z"
    }
   },
   "outputs": [],
   "source": [
    "agent = DQNAgent()\n",
    "agent.run()"
   ]
  },
  {
   "cell_type": "code",
   "execution_count": 6,
   "outputs": [
    {
     "name": "stderr",
     "output_type": "stream",
     "text": [
      "A.L.E: Arcade Learning Environment (version 0.8.1+53f58b7)\n",
      "[Powered by Stella]\n",
      "/home/deewens/miniconda3/envs/pytorch/lib/python3.8/site-packages/gymnasium/wrappers/record_video.py:87: UserWarning: \u001B[33mWARN: Overwriting existing videos at /home/deewens/Documents/Studies/Fourth Year Project/Sources/RL-and-NN-Experiments/algorithms/pytorch/runs/videos folder (try specifying a different `video_folder` for the `RecordVideo` wrapper if this is not desired)\u001B[0m\n",
      "  logger.warn(\n",
      "/home/deewens/miniconda3/envs/pytorch/lib/python3.8/site-packages/torch/functional.py:504: UserWarning: torch.meshgrid: in an upcoming release, it will be required to pass the indexing argument. (Triggered internally at /opt/conda/conda-bld/pytorch_1678402421473/work/aten/src/ATen/native/TensorShape.cpp:3483.)\n",
      "  return _VF.meshgrid(tensors, **kwargs)  # type: ignore[attr-defined]\n",
      "/home/deewens/miniconda3/envs/pytorch/lib/python3.8/site-packages/gymnasium/utils/passive_env_checker.py:364: UserWarning: \u001B[33mWARN: No render fps was declared in the environment (env.metadata['render_fps'] is None or not defined), rendering may occur at inconsistent fps.\u001B[0m\n",
      "  logger.warn(\n"
     ]
    },
    {
     "name": "stdout",
     "output_type": "stream",
     "text": [
      "Moviepy - Building video runs/videos/Swin_Double_DQN_Pong-v5_eval_23-04-2023_14:18:32/rl-video-step-0.mp4.\n",
      "Moviepy - Writing video runs/videos/Swin_Double_DQN_Pong-v5_eval_23-04-2023_14:18:32/rl-video-step-0.mp4\n",
      "\n"
     ]
    },
    {
     "name": "stderr",
     "output_type": "stream",
     "text": [
      "                                                                  \r"
     ]
    },
    {
     "name": "stdout",
     "output_type": "stream",
     "text": [
      "Moviepy - Done !\n",
      "Moviepy - video ready runs/videos/Swin_Double_DQN_Pong-v5_eval_23-04-2023_14:18:32/rl-video-step-0.mp4\n",
      "Moviepy - Building video runs/videos/Swin_Double_DQN_Pong-v5_eval_23-04-2023_14:18:32/rl-video-step-3512.mp4.\n",
      "Moviepy - Writing video runs/videos/Swin_Double_DQN_Pong-v5_eval_23-04-2023_14:18:32/rl-video-step-3512.mp4\n",
      "\n"
     ]
    },
    {
     "name": "stderr",
     "output_type": "stream",
     "text": [
      "                                                                  \r"
     ]
    },
    {
     "name": "stdout",
     "output_type": "stream",
     "text": [
      "Moviepy - Done !\n",
      "Moviepy - video ready runs/videos/Swin_Double_DQN_Pong-v5_eval_23-04-2023_14:18:32/rl-video-step-3512.mp4\n",
      "Moviepy - Building video runs/videos/Swin_Double_DQN_Pong-v5_eval_23-04-2023_14:18:32/rl-video-step-7080.mp4.\n",
      "Moviepy - Writing video runs/videos/Swin_Double_DQN_Pong-v5_eval_23-04-2023_14:18:32/rl-video-step-7080.mp4\n",
      "\n"
     ]
    },
    {
     "name": "stderr",
     "output_type": "stream",
     "text": [
      "                                                                  \r"
     ]
    },
    {
     "name": "stdout",
     "output_type": "stream",
     "text": [
      "Moviepy - Done !\n",
      "Moviepy - video ready runs/videos/Swin_Double_DQN_Pong-v5_eval_23-04-2023_14:18:32/rl-video-step-7080.mp4\n",
      "Moviepy - Building video runs/videos/Swin_Double_DQN_Pong-v5_eval_23-04-2023_14:18:32/rl-video-step-9020.mp4.\n",
      "Moviepy - Writing video runs/videos/Swin_Double_DQN_Pong-v5_eval_23-04-2023_14:18:32/rl-video-step-9020.mp4\n",
      "\n"
     ]
    },
    {
     "name": "stderr",
     "output_type": "stream",
     "text": [
      "                                                                  \r"
     ]
    },
    {
     "name": "stdout",
     "output_type": "stream",
     "text": [
      "Moviepy - Done !\n",
      "Moviepy - video ready runs/videos/Swin_Double_DQN_Pong-v5_eval_23-04-2023_14:18:32/rl-video-step-9020.mp4\n",
      "Moviepy - Building video runs/videos/Swin_Double_DQN_Pong-v5_eval_23-04-2023_14:18:32/rl-video-step-11861.mp4.\n",
      "Moviepy - Writing video runs/videos/Swin_Double_DQN_Pong-v5_eval_23-04-2023_14:18:32/rl-video-step-11861.mp4\n",
      "\n"
     ]
    },
    {
     "name": "stderr",
     "output_type": "stream",
     "text": [
      "                                                                  \r"
     ]
    },
    {
     "name": "stdout",
     "output_type": "stream",
     "text": [
      "Moviepy - Done !\n",
      "Moviepy - video ready runs/videos/Swin_Double_DQN_Pong-v5_eval_23-04-2023_14:18:32/rl-video-step-11861.mp4\n",
      "Moviepy - Building video runs/videos/Swin_Double_DQN_Pong-v5_eval_23-04-2023_14:18:32/rl-video-step-14402.mp4.\n",
      "Moviepy - Writing video runs/videos/Swin_Double_DQN_Pong-v5_eval_23-04-2023_14:18:32/rl-video-step-14402.mp4\n",
      "\n"
     ]
    },
    {
     "name": "stderr",
     "output_type": "stream",
     "text": [
      "                                                                  \r"
     ]
    },
    {
     "name": "stdout",
     "output_type": "stream",
     "text": [
      "Moviepy - Done !\n",
      "Moviepy - video ready runs/videos/Swin_Double_DQN_Pong-v5_eval_23-04-2023_14:18:32/rl-video-step-14402.mp4\n",
      "Moviepy - Building video runs/videos/Swin_Double_DQN_Pong-v5_eval_23-04-2023_14:18:32/rl-video-step-18000.mp4.\n",
      "Moviepy - Writing video runs/videos/Swin_Double_DQN_Pong-v5_eval_23-04-2023_14:18:32/rl-video-step-18000.mp4\n",
      "\n"
     ]
    },
    {
     "name": "stderr",
     "output_type": "stream",
     "text": [
      "                                                                  \r"
     ]
    },
    {
     "name": "stdout",
     "output_type": "stream",
     "text": [
      "Moviepy - Done !\n",
      "Moviepy - video ready runs/videos/Swin_Double_DQN_Pong-v5_eval_23-04-2023_14:18:32/rl-video-step-18000.mp4\n",
      "Moviepy - Building video runs/videos/Swin_Double_DQN_Pong-v5_eval_23-04-2023_14:18:32/rl-video-step-20193.mp4.\n",
      "Moviepy - Writing video runs/videos/Swin_Double_DQN_Pong-v5_eval_23-04-2023_14:18:32/rl-video-step-20193.mp4\n",
      "\n"
     ]
    },
    {
     "name": "stderr",
     "output_type": "stream",
     "text": [
      "                                                                  \r"
     ]
    },
    {
     "name": "stdout",
     "output_type": "stream",
     "text": [
      "Moviepy - Done !\n",
      "Moviepy - video ready runs/videos/Swin_Double_DQN_Pong-v5_eval_23-04-2023_14:18:32/rl-video-step-20193.mp4\n",
      "Moviepy - Building video runs/videos/Swin_Double_DQN_Pong-v5_eval_23-04-2023_14:18:32/rl-video-step-22940.mp4.\n",
      "Moviepy - Writing video runs/videos/Swin_Double_DQN_Pong-v5_eval_23-04-2023_14:18:32/rl-video-step-22940.mp4\n",
      "\n"
     ]
    },
    {
     "name": "stderr",
     "output_type": "stream",
     "text": [
      "                                                                  \r"
     ]
    },
    {
     "name": "stdout",
     "output_type": "stream",
     "text": [
      "Moviepy - Done !\n",
      "Moviepy - video ready runs/videos/Swin_Double_DQN_Pong-v5_eval_23-04-2023_14:18:32/rl-video-step-22940.mp4\n",
      "Moviepy - Building video runs/videos/Swin_Double_DQN_Pong-v5_eval_23-04-2023_14:18:32/rl-video-step-25819.mp4.\n",
      "Moviepy - Writing video runs/videos/Swin_Double_DQN_Pong-v5_eval_23-04-2023_14:18:32/rl-video-step-25819.mp4\n",
      "\n"
     ]
    },
    {
     "name": "stderr",
     "output_type": "stream",
     "text": [
      "                                                                  \r"
     ]
    },
    {
     "name": "stdout",
     "output_type": "stream",
     "text": [
      "Moviepy - Done !\n",
      "Moviepy - video ready runs/videos/Swin_Double_DQN_Pong-v5_eval_23-04-2023_14:18:32/rl-video-step-25819.mp4\n",
      "Moviepy - Building video runs/videos/Swin_Double_DQN_Pong-v5_eval_23-04-2023_14:18:32/rl-video-step-28232.mp4.\n",
      "Moviepy - Writing video runs/videos/Swin_Double_DQN_Pong-v5_eval_23-04-2023_14:18:32/rl-video-step-28232.mp4\n",
      "\n"
     ]
    },
    {
     "name": "stderr",
     "output_type": "stream",
     "text": [
      "                                                                  \r"
     ]
    },
    {
     "name": "stdout",
     "output_type": "stream",
     "text": [
      "Moviepy - Done !\n",
      "Moviepy - video ready runs/videos/Swin_Double_DQN_Pong-v5_eval_23-04-2023_14:18:32/rl-video-step-28232.mp4\n",
      "Moviepy - Building video runs/videos/Swin_Double_DQN_Pong-v5_eval_23-04-2023_14:18:32/rl-video-step-31540.mp4.\n",
      "Moviepy - Writing video runs/videos/Swin_Double_DQN_Pong-v5_eval_23-04-2023_14:18:32/rl-video-step-31540.mp4\n",
      "\n"
     ]
    },
    {
     "name": "stderr",
     "output_type": "stream",
     "text": [
      "                                                                  \r"
     ]
    },
    {
     "name": "stdout",
     "output_type": "stream",
     "text": [
      "Moviepy - Done !\n",
      "Moviepy - video ready runs/videos/Swin_Double_DQN_Pong-v5_eval_23-04-2023_14:18:32/rl-video-step-31540.mp4\n",
      "Moviepy - Building video runs/videos/Swin_Double_DQN_Pong-v5_eval_23-04-2023_14:18:32/rl-video-step-35706.mp4.\n",
      "Moviepy - Writing video runs/videos/Swin_Double_DQN_Pong-v5_eval_23-04-2023_14:18:32/rl-video-step-35706.mp4\n",
      "\n"
     ]
    },
    {
     "name": "stderr",
     "output_type": "stream",
     "text": [
      "                                                                  \r"
     ]
    },
    {
     "name": "stdout",
     "output_type": "stream",
     "text": [
      "Moviepy - Done !\n",
      "Moviepy - video ready runs/videos/Swin_Double_DQN_Pong-v5_eval_23-04-2023_14:18:32/rl-video-step-35706.mp4\n",
      "Moviepy - Building video runs/videos/Swin_Double_DQN_Pong-v5_eval_23-04-2023_14:18:32/rl-video-step-37945.mp4.\n",
      "Moviepy - Writing video runs/videos/Swin_Double_DQN_Pong-v5_eval_23-04-2023_14:18:32/rl-video-step-37945.mp4\n",
      "\n"
     ]
    },
    {
     "name": "stderr",
     "output_type": "stream",
     "text": [
      "                                                                  \r"
     ]
    },
    {
     "name": "stdout",
     "output_type": "stream",
     "text": [
      "Moviepy - Done !\n",
      "Moviepy - video ready runs/videos/Swin_Double_DQN_Pong-v5_eval_23-04-2023_14:18:32/rl-video-step-37945.mp4\n",
      "Moviepy - Building video runs/videos/Swin_Double_DQN_Pong-v5_eval_23-04-2023_14:18:32/rl-video-step-41000.mp4.\n",
      "Moviepy - Writing video runs/videos/Swin_Double_DQN_Pong-v5_eval_23-04-2023_14:18:32/rl-video-step-41000.mp4\n",
      "\n"
     ]
    },
    {
     "name": "stderr",
     "output_type": "stream",
     "text": [
      "                                                                  \r"
     ]
    },
    {
     "name": "stdout",
     "output_type": "stream",
     "text": [
      "Moviepy - Done !\n",
      "Moviepy - video ready runs/videos/Swin_Double_DQN_Pong-v5_eval_23-04-2023_14:18:32/rl-video-step-41000.mp4\n",
      "Moviepy - Building video runs/videos/Swin_Double_DQN_Pong-v5_eval_23-04-2023_14:18:32/rl-video-step-44613.mp4.\n",
      "Moviepy - Writing video runs/videos/Swin_Double_DQN_Pong-v5_eval_23-04-2023_14:18:32/rl-video-step-44613.mp4\n",
      "\n"
     ]
    },
    {
     "name": "stderr",
     "output_type": "stream",
     "text": [
      "                                                                  \r"
     ]
    },
    {
     "name": "stdout",
     "output_type": "stream",
     "text": [
      "Moviepy - Done !\n",
      "Moviepy - video ready runs/videos/Swin_Double_DQN_Pong-v5_eval_23-04-2023_14:18:32/rl-video-step-44613.mp4\n",
      "Moviepy - Building video runs/videos/Swin_Double_DQN_Pong-v5_eval_23-04-2023_14:18:32/rl-video-step-46903.mp4.\n",
      "Moviepy - Writing video runs/videos/Swin_Double_DQN_Pong-v5_eval_23-04-2023_14:18:32/rl-video-step-46903.mp4\n",
      "\n"
     ]
    },
    {
     "name": "stderr",
     "output_type": "stream",
     "text": [
      "                                                                  \r"
     ]
    },
    {
     "name": "stdout",
     "output_type": "stream",
     "text": [
      "Moviepy - Done !\n",
      "Moviepy - video ready runs/videos/Swin_Double_DQN_Pong-v5_eval_23-04-2023_14:18:32/rl-video-step-46903.mp4\n",
      "Moviepy - Building video runs/videos/Swin_Double_DQN_Pong-v5_eval_23-04-2023_14:18:32/rl-video-step-50269.mp4.\n",
      "Moviepy - Writing video runs/videos/Swin_Double_DQN_Pong-v5_eval_23-04-2023_14:18:32/rl-video-step-50269.mp4\n",
      "\n"
     ]
    },
    {
     "name": "stderr",
     "output_type": "stream",
     "text": [
      "                                                                  \r"
     ]
    },
    {
     "name": "stdout",
     "output_type": "stream",
     "text": [
      "Moviepy - Done !\n",
      "Moviepy - video ready runs/videos/Swin_Double_DQN_Pong-v5_eval_23-04-2023_14:18:32/rl-video-step-50269.mp4\n",
      "Moviepy - Building video runs/videos/Swin_Double_DQN_Pong-v5_eval_23-04-2023_14:18:32/rl-video-step-53844.mp4.\n",
      "Moviepy - Writing video runs/videos/Swin_Double_DQN_Pong-v5_eval_23-04-2023_14:18:32/rl-video-step-53844.mp4\n",
      "\n"
     ]
    },
    {
     "name": "stderr",
     "output_type": "stream",
     "text": [
      "                                                                  \r"
     ]
    },
    {
     "name": "stdout",
     "output_type": "stream",
     "text": [
      "Moviepy - Done !\n",
      "Moviepy - video ready runs/videos/Swin_Double_DQN_Pong-v5_eval_23-04-2023_14:18:32/rl-video-step-53844.mp4\n",
      "Moviepy - Building video runs/videos/Swin_Double_DQN_Pong-v5_eval_23-04-2023_14:18:32/rl-video-step-56353.mp4.\n",
      "Moviepy - Writing video runs/videos/Swin_Double_DQN_Pong-v5_eval_23-04-2023_14:18:32/rl-video-step-56353.mp4\n",
      "\n"
     ]
    },
    {
     "name": "stderr",
     "output_type": "stream",
     "text": [
      "                                                                  \r"
     ]
    },
    {
     "name": "stdout",
     "output_type": "stream",
     "text": [
      "Moviepy - Done !\n",
      "Moviepy - video ready runs/videos/Swin_Double_DQN_Pong-v5_eval_23-04-2023_14:18:32/rl-video-step-56353.mp4\n",
      "Moviepy - Building video runs/videos/Swin_Double_DQN_Pong-v5_eval_23-04-2023_14:18:32/rl-video-step-60123.mp4.\n",
      "Moviepy - Writing video runs/videos/Swin_Double_DQN_Pong-v5_eval_23-04-2023_14:18:32/rl-video-step-60123.mp4\n",
      "\n"
     ]
    },
    {
     "name": "stderr",
     "output_type": "stream",
     "text": [
      "                                                                  \r"
     ]
    },
    {
     "name": "stdout",
     "output_type": "stream",
     "text": [
      "Moviepy - Done !\n",
      "Moviepy - video ready runs/videos/Swin_Double_DQN_Pong-v5_eval_23-04-2023_14:18:32/rl-video-step-60123.mp4\n",
      "Moviepy - Building video runs/videos/Swin_Double_DQN_Pong-v5_eval_23-04-2023_14:18:32/rl-video-step-63994.mp4.\n",
      "Moviepy - Writing video runs/videos/Swin_Double_DQN_Pong-v5_eval_23-04-2023_14:18:32/rl-video-step-63994.mp4\n",
      "\n"
     ]
    },
    {
     "name": "stderr",
     "output_type": "stream",
     "text": [
      "                                                                  \r"
     ]
    },
    {
     "name": "stdout",
     "output_type": "stream",
     "text": [
      "Moviepy - Done !\n",
      "Moviepy - video ready runs/videos/Swin_Double_DQN_Pong-v5_eval_23-04-2023_14:18:32/rl-video-step-63994.mp4\n",
      "Moviepy - Building video runs/videos/Swin_Double_DQN_Pong-v5_eval_23-04-2023_14:18:32/rl-video-step-67289.mp4.\n",
      "Moviepy - Writing video runs/videos/Swin_Double_DQN_Pong-v5_eval_23-04-2023_14:18:32/rl-video-step-67289.mp4\n",
      "\n"
     ]
    },
    {
     "name": "stderr",
     "output_type": "stream",
     "text": [
      "                                                                  \r"
     ]
    },
    {
     "name": "stdout",
     "output_type": "stream",
     "text": [
      "Moviepy - Done !\n",
      "Moviepy - video ready runs/videos/Swin_Double_DQN_Pong-v5_eval_23-04-2023_14:18:32/rl-video-step-67289.mp4\n",
      "Moviepy - Building video runs/videos/Swin_Double_DQN_Pong-v5_eval_23-04-2023_14:18:32/rl-video-step-70081.mp4.\n",
      "Moviepy - Writing video runs/videos/Swin_Double_DQN_Pong-v5_eval_23-04-2023_14:18:32/rl-video-step-70081.mp4\n",
      "\n"
     ]
    },
    {
     "name": "stderr",
     "output_type": "stream",
     "text": [
      "                                                                  \r"
     ]
    },
    {
     "name": "stdout",
     "output_type": "stream",
     "text": [
      "Moviepy - Done !\n",
      "Moviepy - video ready runs/videos/Swin_Double_DQN_Pong-v5_eval_23-04-2023_14:18:32/rl-video-step-70081.mp4\n",
      "Moviepy - Building video runs/videos/Swin_Double_DQN_Pong-v5_eval_23-04-2023_14:18:32/rl-video-step-73139.mp4.\n",
      "Moviepy - Writing video runs/videos/Swin_Double_DQN_Pong-v5_eval_23-04-2023_14:18:32/rl-video-step-73139.mp4\n",
      "\n"
     ]
    },
    {
     "name": "stderr",
     "output_type": "stream",
     "text": [
      "                                                                  \r"
     ]
    },
    {
     "name": "stdout",
     "output_type": "stream",
     "text": [
      "Moviepy - Done !\n",
      "Moviepy - video ready runs/videos/Swin_Double_DQN_Pong-v5_eval_23-04-2023_14:18:32/rl-video-step-73139.mp4\n",
      "Moviepy - Building video runs/videos/Swin_Double_DQN_Pong-v5_eval_23-04-2023_14:18:32/rl-video-step-76290.mp4.\n",
      "Moviepy - Writing video runs/videos/Swin_Double_DQN_Pong-v5_eval_23-04-2023_14:18:32/rl-video-step-76290.mp4\n",
      "\n"
     ]
    },
    {
     "name": "stderr",
     "output_type": "stream",
     "text": [
      "                                                                  \r"
     ]
    },
    {
     "name": "stdout",
     "output_type": "stream",
     "text": [
      "Moviepy - Done !\n",
      "Moviepy - video ready runs/videos/Swin_Double_DQN_Pong-v5_eval_23-04-2023_14:18:32/rl-video-step-76290.mp4\n",
      "Moviepy - Building video runs/videos/Swin_Double_DQN_Pong-v5_eval_23-04-2023_14:18:32/rl-video-step-79834.mp4.\n",
      "Moviepy - Writing video runs/videos/Swin_Double_DQN_Pong-v5_eval_23-04-2023_14:18:32/rl-video-step-79834.mp4\n",
      "\n"
     ]
    },
    {
     "name": "stderr",
     "output_type": "stream",
     "text": [
      "                                                                  \r"
     ]
    },
    {
     "name": "stdout",
     "output_type": "stream",
     "text": [
      "Moviepy - Done !\n",
      "Moviepy - video ready runs/videos/Swin_Double_DQN_Pong-v5_eval_23-04-2023_14:18:32/rl-video-step-79834.mp4\n",
      "Moviepy - Building video runs/videos/Swin_Double_DQN_Pong-v5_eval_23-04-2023_14:18:32/rl-video-step-82283.mp4.\n",
      "Moviepy - Writing video runs/videos/Swin_Double_DQN_Pong-v5_eval_23-04-2023_14:18:32/rl-video-step-82283.mp4\n",
      "\n"
     ]
    },
    {
     "name": "stderr",
     "output_type": "stream",
     "text": [
      "                                                                  \r"
     ]
    },
    {
     "name": "stdout",
     "output_type": "stream",
     "text": [
      "Moviepy - Done !\n",
      "Moviepy - video ready runs/videos/Swin_Double_DQN_Pong-v5_eval_23-04-2023_14:18:32/rl-video-step-82283.mp4\n",
      "Moviepy - Building video runs/videos/Swin_Double_DQN_Pong-v5_eval_23-04-2023_14:18:32/rl-video-step-85881.mp4.\n",
      "Moviepy - Writing video runs/videos/Swin_Double_DQN_Pong-v5_eval_23-04-2023_14:18:32/rl-video-step-85881.mp4\n",
      "\n"
     ]
    },
    {
     "name": "stderr",
     "output_type": "stream",
     "text": [
      "                                                                  \r"
     ]
    },
    {
     "name": "stdout",
     "output_type": "stream",
     "text": [
      "Moviepy - Done !\n",
      "Moviepy - video ready runs/videos/Swin_Double_DQN_Pong-v5_eval_23-04-2023_14:18:32/rl-video-step-85881.mp4\n",
      "Moviepy - Building video runs/videos/Swin_Double_DQN_Pong-v5_eval_23-04-2023_14:18:32/rl-video-step-88353.mp4.\n",
      "Moviepy - Writing video runs/videos/Swin_Double_DQN_Pong-v5_eval_23-04-2023_14:18:32/rl-video-step-88353.mp4\n",
      "\n"
     ]
    },
    {
     "name": "stderr",
     "output_type": "stream",
     "text": [
      "                                                                  \r"
     ]
    },
    {
     "name": "stdout",
     "output_type": "stream",
     "text": [
      "Moviepy - Done !\n",
      "Moviepy - video ready runs/videos/Swin_Double_DQN_Pong-v5_eval_23-04-2023_14:18:32/rl-video-step-88353.mp4\n",
      "Moviepy - Building video runs/videos/Swin_Double_DQN_Pong-v5_eval_23-04-2023_14:18:32/rl-video-step-91007.mp4.\n",
      "Moviepy - Writing video runs/videos/Swin_Double_DQN_Pong-v5_eval_23-04-2023_14:18:32/rl-video-step-91007.mp4\n",
      "\n"
     ]
    },
    {
     "name": "stderr",
     "output_type": "stream",
     "text": [
      "                                                                  \r"
     ]
    },
    {
     "name": "stdout",
     "output_type": "stream",
     "text": [
      "Moviepy - Done !\n",
      "Moviepy - video ready runs/videos/Swin_Double_DQN_Pong-v5_eval_23-04-2023_14:18:32/rl-video-step-91007.mp4\n",
      "Moviepy - Building video runs/videos/Swin_Double_DQN_Pong-v5_eval_23-04-2023_14:18:32/rl-video-step-95115.mp4.\n",
      "Moviepy - Writing video runs/videos/Swin_Double_DQN_Pong-v5_eval_23-04-2023_14:18:32/rl-video-step-95115.mp4\n",
      "\n"
     ]
    },
    {
     "name": "stderr",
     "output_type": "stream",
     "text": [
      "                                                                  \r"
     ]
    },
    {
     "name": "stdout",
     "output_type": "stream",
     "text": [
      "Moviepy - Done !\n",
      "Moviepy - video ready runs/videos/Swin_Double_DQN_Pong-v5_eval_23-04-2023_14:18:32/rl-video-step-95115.mp4\n",
      "Moviepy - Building video runs/videos/Swin_Double_DQN_Pong-v5_eval_23-04-2023_14:18:32/rl-video-step-97503.mp4.\n",
      "Moviepy - Writing video runs/videos/Swin_Double_DQN_Pong-v5_eval_23-04-2023_14:18:32/rl-video-step-97503.mp4\n",
      "\n"
     ]
    },
    {
     "name": "stderr",
     "output_type": "stream",
     "text": [
      "                                                                  \r"
     ]
    },
    {
     "name": "stdout",
     "output_type": "stream",
     "text": [
      "Moviepy - Done !\n",
      "Moviepy - video ready runs/videos/Swin_Double_DQN_Pong-v5_eval_23-04-2023_14:18:32/rl-video-step-97503.mp4\n",
      "Moviepy - Building video runs/videos/Swin_Double_DQN_Pong-v5_eval_23-04-2023_14:18:32/rl-video-step-100098.mp4.\n",
      "Moviepy - Writing video runs/videos/Swin_Double_DQN_Pong-v5_eval_23-04-2023_14:18:32/rl-video-step-100098.mp4\n",
      "\n"
     ]
    },
    {
     "name": "stderr",
     "output_type": "stream",
     "text": [
      "                                                                  \r"
     ]
    },
    {
     "name": "stdout",
     "output_type": "stream",
     "text": [
      "Moviepy - Done !\n",
      "Moviepy - video ready runs/videos/Swin_Double_DQN_Pong-v5_eval_23-04-2023_14:18:32/rl-video-step-100098.mp4\n",
      "Moviepy - Building video runs/videos/Swin_Double_DQN_Pong-v5_eval_23-04-2023_14:18:32/rl-video-step-103581.mp4.\n",
      "Moviepy - Writing video runs/videos/Swin_Double_DQN_Pong-v5_eval_23-04-2023_14:18:32/rl-video-step-103581.mp4\n",
      "\n"
     ]
    },
    {
     "name": "stderr",
     "output_type": "stream",
     "text": [
      "                                                                  \r"
     ]
    },
    {
     "name": "stdout",
     "output_type": "stream",
     "text": [
      "Moviepy - Done !\n",
      "Moviepy - video ready runs/videos/Swin_Double_DQN_Pong-v5_eval_23-04-2023_14:18:32/rl-video-step-103581.mp4\n",
      "Moviepy - Building video runs/videos/Swin_Double_DQN_Pong-v5_eval_23-04-2023_14:18:32/rl-video-step-107805.mp4.\n",
      "Moviepy - Writing video runs/videos/Swin_Double_DQN_Pong-v5_eval_23-04-2023_14:18:32/rl-video-step-107805.mp4\n",
      "\n"
     ]
    },
    {
     "name": "stderr",
     "output_type": "stream",
     "text": [
      "                                                                  \r"
     ]
    },
    {
     "name": "stdout",
     "output_type": "stream",
     "text": [
      "Moviepy - Done !\n",
      "Moviepy - video ready runs/videos/Swin_Double_DQN_Pong-v5_eval_23-04-2023_14:18:32/rl-video-step-107805.mp4\n",
      "Moviepy - Building video runs/videos/Swin_Double_DQN_Pong-v5_eval_23-04-2023_14:18:32/rl-video-step-112213.mp4.\n",
      "Moviepy - Writing video runs/videos/Swin_Double_DQN_Pong-v5_eval_23-04-2023_14:18:32/rl-video-step-112213.mp4\n",
      "\n"
     ]
    },
    {
     "name": "stderr",
     "output_type": "stream",
     "text": [
      "                                                                  \r"
     ]
    },
    {
     "name": "stdout",
     "output_type": "stream",
     "text": [
      "Moviepy - Done !\n",
      "Moviepy - video ready runs/videos/Swin_Double_DQN_Pong-v5_eval_23-04-2023_14:18:32/rl-video-step-112213.mp4\n",
      "Moviepy - Building video runs/videos/Swin_Double_DQN_Pong-v5_eval_23-04-2023_14:18:32/rl-video-step-115062.mp4.\n",
      "Moviepy - Writing video runs/videos/Swin_Double_DQN_Pong-v5_eval_23-04-2023_14:18:32/rl-video-step-115062.mp4\n",
      "\n"
     ]
    },
    {
     "name": "stderr",
     "output_type": "stream",
     "text": [
      "                                                                  \r"
     ]
    },
    {
     "name": "stdout",
     "output_type": "stream",
     "text": [
      "Moviepy - Done !\n",
      "Moviepy - video ready runs/videos/Swin_Double_DQN_Pong-v5_eval_23-04-2023_14:18:32/rl-video-step-115062.mp4\n",
      "Moviepy - Building video runs/videos/Swin_Double_DQN_Pong-v5_eval_23-04-2023_14:18:32/rl-video-step-118145.mp4.\n",
      "Moviepy - Writing video runs/videos/Swin_Double_DQN_Pong-v5_eval_23-04-2023_14:18:32/rl-video-step-118145.mp4\n",
      "\n"
     ]
    },
    {
     "name": "stderr",
     "output_type": "stream",
     "text": [
      "                                                                  \r"
     ]
    },
    {
     "name": "stdout",
     "output_type": "stream",
     "text": [
      "Moviepy - Done !\n",
      "Moviepy - video ready runs/videos/Swin_Double_DQN_Pong-v5_eval_23-04-2023_14:18:32/rl-video-step-118145.mp4\n",
      "Moviepy - Building video runs/videos/Swin_Double_DQN_Pong-v5_eval_23-04-2023_14:18:32/rl-video-step-120711.mp4.\n",
      "Moviepy - Writing video runs/videos/Swin_Double_DQN_Pong-v5_eval_23-04-2023_14:18:32/rl-video-step-120711.mp4\n",
      "\n"
     ]
    },
    {
     "name": "stderr",
     "output_type": "stream",
     "text": [
      "                                                                  \r"
     ]
    },
    {
     "name": "stdout",
     "output_type": "stream",
     "text": [
      "Moviepy - Done !\n",
      "Moviepy - video ready runs/videos/Swin_Double_DQN_Pong-v5_eval_23-04-2023_14:18:32/rl-video-step-120711.mp4\n",
      "Moviepy - Building video runs/videos/Swin_Double_DQN_Pong-v5_eval_23-04-2023_14:18:32/rl-video-step-123726.mp4.\n",
      "Moviepy - Writing video runs/videos/Swin_Double_DQN_Pong-v5_eval_23-04-2023_14:18:32/rl-video-step-123726.mp4\n",
      "\n"
     ]
    },
    {
     "name": "stderr",
     "output_type": "stream",
     "text": [
      "                                                                  \r"
     ]
    },
    {
     "name": "stdout",
     "output_type": "stream",
     "text": [
      "Moviepy - Done !\n",
      "Moviepy - video ready runs/videos/Swin_Double_DQN_Pong-v5_eval_23-04-2023_14:18:32/rl-video-step-123726.mp4\n",
      "Moviepy - Building video runs/videos/Swin_Double_DQN_Pong-v5_eval_23-04-2023_14:18:32/rl-video-step-127705.mp4.\n",
      "Moviepy - Writing video runs/videos/Swin_Double_DQN_Pong-v5_eval_23-04-2023_14:18:32/rl-video-step-127705.mp4\n",
      "\n"
     ]
    },
    {
     "name": "stderr",
     "output_type": "stream",
     "text": [
      "                                                                  \r"
     ]
    },
    {
     "name": "stdout",
     "output_type": "stream",
     "text": [
      "Moviepy - Done !\n",
      "Moviepy - video ready runs/videos/Swin_Double_DQN_Pong-v5_eval_23-04-2023_14:18:32/rl-video-step-127705.mp4\n",
      "Moviepy - Building video runs/videos/Swin_Double_DQN_Pong-v5_eval_23-04-2023_14:18:32/rl-video-step-131334.mp4.\n",
      "Moviepy - Writing video runs/videos/Swin_Double_DQN_Pong-v5_eval_23-04-2023_14:18:32/rl-video-step-131334.mp4\n",
      "\n"
     ]
    },
    {
     "name": "stderr",
     "output_type": "stream",
     "text": [
      "                                                                  \r"
     ]
    },
    {
     "name": "stdout",
     "output_type": "stream",
     "text": [
      "Moviepy - Done !\n",
      "Moviepy - video ready runs/videos/Swin_Double_DQN_Pong-v5_eval_23-04-2023_14:18:32/rl-video-step-131334.mp4\n",
      "Moviepy - Building video runs/videos/Swin_Double_DQN_Pong-v5_eval_23-04-2023_14:18:32/rl-video-step-133794.mp4.\n",
      "Moviepy - Writing video runs/videos/Swin_Double_DQN_Pong-v5_eval_23-04-2023_14:18:32/rl-video-step-133794.mp4\n",
      "\n"
     ]
    },
    {
     "name": "stderr",
     "output_type": "stream",
     "text": [
      "                                                                  \r"
     ]
    },
    {
     "name": "stdout",
     "output_type": "stream",
     "text": [
      "Moviepy - Done !\n",
      "Moviepy - video ready runs/videos/Swin_Double_DQN_Pong-v5_eval_23-04-2023_14:18:32/rl-video-step-133794.mp4\n",
      "Moviepy - Building video runs/videos/Swin_Double_DQN_Pong-v5_eval_23-04-2023_14:18:32/rl-video-step-136202.mp4.\n",
      "Moviepy - Writing video runs/videos/Swin_Double_DQN_Pong-v5_eval_23-04-2023_14:18:32/rl-video-step-136202.mp4\n",
      "\n"
     ]
    },
    {
     "name": "stderr",
     "output_type": "stream",
     "text": [
      "                                                                  \r"
     ]
    },
    {
     "name": "stdout",
     "output_type": "stream",
     "text": [
      "Moviepy - Done !\n",
      "Moviepy - video ready runs/videos/Swin_Double_DQN_Pong-v5_eval_23-04-2023_14:18:32/rl-video-step-136202.mp4\n",
      "Moviepy - Building video runs/videos/Swin_Double_DQN_Pong-v5_eval_23-04-2023_14:18:32/rl-video-step-140037.mp4.\n",
      "Moviepy - Writing video runs/videos/Swin_Double_DQN_Pong-v5_eval_23-04-2023_14:18:32/rl-video-step-140037.mp4\n",
      "\n"
     ]
    },
    {
     "name": "stderr",
     "output_type": "stream",
     "text": [
      "                                                                  \r"
     ]
    },
    {
     "name": "stdout",
     "output_type": "stream",
     "text": [
      "Moviepy - Done !\n",
      "Moviepy - video ready runs/videos/Swin_Double_DQN_Pong-v5_eval_23-04-2023_14:18:32/rl-video-step-140037.mp4\n",
      "Moviepy - Building video runs/videos/Swin_Double_DQN_Pong-v5_eval_23-04-2023_14:18:32/rl-video-step-142268.mp4.\n",
      "Moviepy - Writing video runs/videos/Swin_Double_DQN_Pong-v5_eval_23-04-2023_14:18:32/rl-video-step-142268.mp4\n",
      "\n"
     ]
    },
    {
     "name": "stderr",
     "output_type": "stream",
     "text": [
      "                                                                  \r"
     ]
    },
    {
     "name": "stdout",
     "output_type": "stream",
     "text": [
      "Moviepy - Done !\n",
      "Moviepy - video ready runs/videos/Swin_Double_DQN_Pong-v5_eval_23-04-2023_14:18:32/rl-video-step-142268.mp4\n",
      "Moviepy - Building video runs/videos/Swin_Double_DQN_Pong-v5_eval_23-04-2023_14:18:32/rl-video-step-145732.mp4.\n",
      "Moviepy - Writing video runs/videos/Swin_Double_DQN_Pong-v5_eval_23-04-2023_14:18:32/rl-video-step-145732.mp4\n",
      "\n"
     ]
    },
    {
     "name": "stderr",
     "output_type": "stream",
     "text": [
      "                                                                  \r"
     ]
    },
    {
     "name": "stdout",
     "output_type": "stream",
     "text": [
      "Moviepy - Done !\n",
      "Moviepy - video ready runs/videos/Swin_Double_DQN_Pong-v5_eval_23-04-2023_14:18:32/rl-video-step-145732.mp4\n",
      "Moviepy - Building video runs/videos/Swin_Double_DQN_Pong-v5_eval_23-04-2023_14:18:32/rl-video-step-149768.mp4.\n",
      "Moviepy - Writing video runs/videos/Swin_Double_DQN_Pong-v5_eval_23-04-2023_14:18:32/rl-video-step-149768.mp4\n",
      "\n"
     ]
    },
    {
     "name": "stderr",
     "output_type": "stream",
     "text": [
      "                                                                  \r"
     ]
    },
    {
     "name": "stdout",
     "output_type": "stream",
     "text": [
      "Moviepy - Done !\n",
      "Moviepy - video ready runs/videos/Swin_Double_DQN_Pong-v5_eval_23-04-2023_14:18:32/rl-video-step-149768.mp4\n",
      "Moviepy - Building video runs/videos/Swin_Double_DQN_Pong-v5_eval_23-04-2023_14:18:32/rl-video-step-152527.mp4.\n",
      "Moviepy - Writing video runs/videos/Swin_Double_DQN_Pong-v5_eval_23-04-2023_14:18:32/rl-video-step-152527.mp4\n",
      "\n"
     ]
    },
    {
     "name": "stderr",
     "output_type": "stream",
     "text": [
      "                                                                  \r"
     ]
    },
    {
     "name": "stdout",
     "output_type": "stream",
     "text": [
      "Moviepy - Done !\n",
      "Moviepy - video ready runs/videos/Swin_Double_DQN_Pong-v5_eval_23-04-2023_14:18:32/rl-video-step-152527.mp4\n",
      "Moviepy - Building video runs/videos/Swin_Double_DQN_Pong-v5_eval_23-04-2023_14:18:32/rl-video-step-155407.mp4.\n",
      "Moviepy - Writing video runs/videos/Swin_Double_DQN_Pong-v5_eval_23-04-2023_14:18:32/rl-video-step-155407.mp4\n",
      "\n"
     ]
    },
    {
     "name": "stderr",
     "output_type": "stream",
     "text": [
      "                                                                  \r"
     ]
    },
    {
     "name": "stdout",
     "output_type": "stream",
     "text": [
      "Moviepy - Done !\n",
      "Moviepy - video ready runs/videos/Swin_Double_DQN_Pong-v5_eval_23-04-2023_14:18:32/rl-video-step-155407.mp4\n",
      "Moviepy - Building video runs/videos/Swin_Double_DQN_Pong-v5_eval_23-04-2023_14:18:32/rl-video-step-158004.mp4.\n",
      "Moviepy - Writing video runs/videos/Swin_Double_DQN_Pong-v5_eval_23-04-2023_14:18:32/rl-video-step-158004.mp4\n",
      "\n"
     ]
    },
    {
     "name": "stderr",
     "output_type": "stream",
     "text": [
      "                                                                  \r"
     ]
    },
    {
     "name": "stdout",
     "output_type": "stream",
     "text": [
      "Moviepy - Done !\n",
      "Moviepy - video ready runs/videos/Swin_Double_DQN_Pong-v5_eval_23-04-2023_14:18:32/rl-video-step-158004.mp4\n",
      "Moviepy - Building video runs/videos/Swin_Double_DQN_Pong-v5_eval_23-04-2023_14:18:32/rl-video-step-161689.mp4.\n",
      "Moviepy - Writing video runs/videos/Swin_Double_DQN_Pong-v5_eval_23-04-2023_14:18:32/rl-video-step-161689.mp4\n",
      "\n"
     ]
    },
    {
     "name": "stderr",
     "output_type": "stream",
     "text": [
      "                                                                  \r"
     ]
    },
    {
     "name": "stdout",
     "output_type": "stream",
     "text": [
      "Moviepy - Done !\n",
      "Moviepy - video ready runs/videos/Swin_Double_DQN_Pong-v5_eval_23-04-2023_14:18:32/rl-video-step-161689.mp4\n",
      "Moviepy - Building video runs/videos/Swin_Double_DQN_Pong-v5_eval_23-04-2023_14:18:32/rl-video-step-165151.mp4.\n",
      "Moviepy - Writing video runs/videos/Swin_Double_DQN_Pong-v5_eval_23-04-2023_14:18:32/rl-video-step-165151.mp4\n",
      "\n"
     ]
    },
    {
     "name": "stderr",
     "output_type": "stream",
     "text": [
      "                                                                  \r"
     ]
    },
    {
     "name": "stdout",
     "output_type": "stream",
     "text": [
      "Moviepy - Done !\n",
      "Moviepy - video ready runs/videos/Swin_Double_DQN_Pong-v5_eval_23-04-2023_14:18:32/rl-video-step-165151.mp4\n",
      "Moviepy - Building video runs/videos/Swin_Double_DQN_Pong-v5_eval_23-04-2023_14:18:32/rl-video-step-168077.mp4.\n",
      "Moviepy - Writing video runs/videos/Swin_Double_DQN_Pong-v5_eval_23-04-2023_14:18:32/rl-video-step-168077.mp4\n",
      "\n"
     ]
    },
    {
     "name": "stderr",
     "output_type": "stream",
     "text": [
      "                                                                  \r"
     ]
    },
    {
     "name": "stdout",
     "output_type": "stream",
     "text": [
      "Moviepy - Done !\n",
      "Moviepy - video ready runs/videos/Swin_Double_DQN_Pong-v5_eval_23-04-2023_14:18:32/rl-video-step-168077.mp4\n",
      "Moviepy - Building video runs/videos/Swin_Double_DQN_Pong-v5_eval_23-04-2023_14:18:32/rl-video-step-171278.mp4.\n",
      "Moviepy - Writing video runs/videos/Swin_Double_DQN_Pong-v5_eval_23-04-2023_14:18:32/rl-video-step-171278.mp4\n",
      "\n"
     ]
    },
    {
     "name": "stderr",
     "output_type": "stream",
     "text": [
      "                                                                  \r"
     ]
    },
    {
     "name": "stdout",
     "output_type": "stream",
     "text": [
      "Moviepy - Done !\n",
      "Moviepy - video ready runs/videos/Swin_Double_DQN_Pong-v5_eval_23-04-2023_14:18:32/rl-video-step-171278.mp4\n",
      "Moviepy - Building video runs/videos/Swin_Double_DQN_Pong-v5_eval_23-04-2023_14:18:32/rl-video-step-174284.mp4.\n",
      "Moviepy - Writing video runs/videos/Swin_Double_DQN_Pong-v5_eval_23-04-2023_14:18:32/rl-video-step-174284.mp4\n",
      "\n"
     ]
    },
    {
     "name": "stderr",
     "output_type": "stream",
     "text": [
      "                                                                  \r"
     ]
    },
    {
     "name": "stdout",
     "output_type": "stream",
     "text": [
      "Moviepy - Done !\n",
      "Moviepy - video ready runs/videos/Swin_Double_DQN_Pong-v5_eval_23-04-2023_14:18:32/rl-video-step-174284.mp4\n",
      "Moviepy - Building video runs/videos/Swin_Double_DQN_Pong-v5_eval_23-04-2023_14:18:32/rl-video-step-177503.mp4.\n",
      "Moviepy - Writing video runs/videos/Swin_Double_DQN_Pong-v5_eval_23-04-2023_14:18:32/rl-video-step-177503.mp4\n",
      "\n"
     ]
    },
    {
     "name": "stderr",
     "output_type": "stream",
     "text": [
      "                                                                  \r"
     ]
    },
    {
     "name": "stdout",
     "output_type": "stream",
     "text": [
      "Moviepy - Done !\n",
      "Moviepy - video ready runs/videos/Swin_Double_DQN_Pong-v5_eval_23-04-2023_14:18:32/rl-video-step-177503.mp4\n",
      "Moviepy - Building video runs/videos/Swin_Double_DQN_Pong-v5_eval_23-04-2023_14:18:32/rl-video-step-181455.mp4.\n",
      "Moviepy - Writing video runs/videos/Swin_Double_DQN_Pong-v5_eval_23-04-2023_14:18:32/rl-video-step-181455.mp4\n",
      "\n"
     ]
    },
    {
     "name": "stderr",
     "output_type": "stream",
     "text": [
      "                                                                  \r"
     ]
    },
    {
     "name": "stdout",
     "output_type": "stream",
     "text": [
      "Moviepy - Done !\n",
      "Moviepy - video ready runs/videos/Swin_Double_DQN_Pong-v5_eval_23-04-2023_14:18:32/rl-video-step-181455.mp4\n",
      "Moviepy - Building video runs/videos/Swin_Double_DQN_Pong-v5_eval_23-04-2023_14:18:32/rl-video-step-184263.mp4.\n",
      "Moviepy - Writing video runs/videos/Swin_Double_DQN_Pong-v5_eval_23-04-2023_14:18:32/rl-video-step-184263.mp4\n",
      "\n"
     ]
    },
    {
     "name": "stderr",
     "output_type": "stream",
     "text": [
      "                                                                  \r"
     ]
    },
    {
     "name": "stdout",
     "output_type": "stream",
     "text": [
      "Moviepy - Done !\n",
      "Moviepy - video ready runs/videos/Swin_Double_DQN_Pong-v5_eval_23-04-2023_14:18:32/rl-video-step-184263.mp4\n",
      "Moviepy - Building video runs/videos/Swin_Double_DQN_Pong-v5_eval_23-04-2023_14:18:32/rl-video-step-187507.mp4.\n",
      "Moviepy - Writing video runs/videos/Swin_Double_DQN_Pong-v5_eval_23-04-2023_14:18:32/rl-video-step-187507.mp4\n",
      "\n"
     ]
    },
    {
     "name": "stderr",
     "output_type": "stream",
     "text": [
      "                                                                  \r"
     ]
    },
    {
     "name": "stdout",
     "output_type": "stream",
     "text": [
      "Moviepy - Done !\n",
      "Moviepy - video ready runs/videos/Swin_Double_DQN_Pong-v5_eval_23-04-2023_14:18:32/rl-video-step-187507.mp4\n",
      "Moviepy - Building video runs/videos/Swin_Double_DQN_Pong-v5_eval_23-04-2023_14:18:32/rl-video-step-190801.mp4.\n",
      "Moviepy - Writing video runs/videos/Swin_Double_DQN_Pong-v5_eval_23-04-2023_14:18:32/rl-video-step-190801.mp4\n",
      "\n"
     ]
    },
    {
     "name": "stderr",
     "output_type": "stream",
     "text": [
      "                                                                  \r"
     ]
    },
    {
     "name": "stdout",
     "output_type": "stream",
     "text": [
      "Moviepy - Done !\n",
      "Moviepy - video ready runs/videos/Swin_Double_DQN_Pong-v5_eval_23-04-2023_14:18:32/rl-video-step-190801.mp4\n",
      "Moviepy - Building video runs/videos/Swin_Double_DQN_Pong-v5_eval_23-04-2023_14:18:32/rl-video-step-193096.mp4.\n",
      "Moviepy - Writing video runs/videos/Swin_Double_DQN_Pong-v5_eval_23-04-2023_14:18:32/rl-video-step-193096.mp4\n",
      "\n"
     ]
    },
    {
     "name": "stderr",
     "output_type": "stream",
     "text": [
      "                                                                  \r"
     ]
    },
    {
     "name": "stdout",
     "output_type": "stream",
     "text": [
      "Moviepy - Done !\n",
      "Moviepy - video ready runs/videos/Swin_Double_DQN_Pong-v5_eval_23-04-2023_14:18:32/rl-video-step-193096.mp4\n",
      "Moviepy - Building video runs/videos/Swin_Double_DQN_Pong-v5_eval_23-04-2023_14:18:32/rl-video-step-195908.mp4.\n",
      "Moviepy - Writing video runs/videos/Swin_Double_DQN_Pong-v5_eval_23-04-2023_14:18:32/rl-video-step-195908.mp4\n",
      "\n"
     ]
    },
    {
     "name": "stderr",
     "output_type": "stream",
     "text": [
      "                                                                  \r"
     ]
    },
    {
     "name": "stdout",
     "output_type": "stream",
     "text": [
      "Moviepy - Done !\n",
      "Moviepy - video ready runs/videos/Swin_Double_DQN_Pong-v5_eval_23-04-2023_14:18:32/rl-video-step-195908.mp4\n",
      "Moviepy - Building video runs/videos/Swin_Double_DQN_Pong-v5_eval_23-04-2023_14:18:32/rl-video-step-199865.mp4.\n",
      "Moviepy - Writing video runs/videos/Swin_Double_DQN_Pong-v5_eval_23-04-2023_14:18:32/rl-video-step-199865.mp4\n",
      "\n"
     ]
    },
    {
     "name": "stderr",
     "output_type": "stream",
     "text": [
      "                                                                  \r"
     ]
    },
    {
     "name": "stdout",
     "output_type": "stream",
     "text": [
      "Moviepy - Done !\n",
      "Moviepy - video ready runs/videos/Swin_Double_DQN_Pong-v5_eval_23-04-2023_14:18:32/rl-video-step-199865.mp4\n",
      "Moviepy - Building video runs/videos/Swin_Double_DQN_Pong-v5_eval_23-04-2023_14:18:32/rl-video-step-204909.mp4.\n",
      "Moviepy - Writing video runs/videos/Swin_Double_DQN_Pong-v5_eval_23-04-2023_14:18:32/rl-video-step-204909.mp4\n",
      "\n"
     ]
    },
    {
     "name": "stderr",
     "output_type": "stream",
     "text": [
      "                                                                  \r"
     ]
    },
    {
     "name": "stdout",
     "output_type": "stream",
     "text": [
      "Moviepy - Done !\n",
      "Moviepy - video ready runs/videos/Swin_Double_DQN_Pong-v5_eval_23-04-2023_14:18:32/rl-video-step-204909.mp4\n",
      "Moviepy - Building video runs/videos/Swin_Double_DQN_Pong-v5_eval_23-04-2023_14:18:32/rl-video-step-207917.mp4.\n",
      "Moviepy - Writing video runs/videos/Swin_Double_DQN_Pong-v5_eval_23-04-2023_14:18:32/rl-video-step-207917.mp4\n",
      "\n"
     ]
    },
    {
     "name": "stderr",
     "output_type": "stream",
     "text": [
      "                                                                  \r"
     ]
    },
    {
     "name": "stdout",
     "output_type": "stream",
     "text": [
      "Moviepy - Done !\n",
      "Moviepy - video ready runs/videos/Swin_Double_DQN_Pong-v5_eval_23-04-2023_14:18:32/rl-video-step-207917.mp4\n",
      "Moviepy - Building video runs/videos/Swin_Double_DQN_Pong-v5_eval_23-04-2023_14:18:32/rl-video-step-210455.mp4.\n",
      "Moviepy - Writing video runs/videos/Swin_Double_DQN_Pong-v5_eval_23-04-2023_14:18:32/rl-video-step-210455.mp4\n",
      "\n"
     ]
    },
    {
     "name": "stderr",
     "output_type": "stream",
     "text": [
      "                                                                  \r"
     ]
    },
    {
     "name": "stdout",
     "output_type": "stream",
     "text": [
      "Moviepy - Done !\n",
      "Moviepy - video ready runs/videos/Swin_Double_DQN_Pong-v5_eval_23-04-2023_14:18:32/rl-video-step-210455.mp4\n",
      "Moviepy - Building video runs/videos/Swin_Double_DQN_Pong-v5_eval_23-04-2023_14:18:32/rl-video-step-212818.mp4.\n",
      "Moviepy - Writing video runs/videos/Swin_Double_DQN_Pong-v5_eval_23-04-2023_14:18:32/rl-video-step-212818.mp4\n",
      "\n"
     ]
    },
    {
     "name": "stderr",
     "output_type": "stream",
     "text": [
      "                                                                  \r"
     ]
    },
    {
     "name": "stdout",
     "output_type": "stream",
     "text": [
      "Moviepy - Done !\n",
      "Moviepy - video ready runs/videos/Swin_Double_DQN_Pong-v5_eval_23-04-2023_14:18:32/rl-video-step-212818.mp4\n",
      "Moviepy - Building video runs/videos/Swin_Double_DQN_Pong-v5_eval_23-04-2023_14:18:32/rl-video-step-215976.mp4.\n",
      "Moviepy - Writing video runs/videos/Swin_Double_DQN_Pong-v5_eval_23-04-2023_14:18:32/rl-video-step-215976.mp4\n",
      "\n"
     ]
    },
    {
     "name": "stderr",
     "output_type": "stream",
     "text": [
      "                                                                  \r"
     ]
    },
    {
     "name": "stdout",
     "output_type": "stream",
     "text": [
      "Moviepy - Done !\n",
      "Moviepy - video ready runs/videos/Swin_Double_DQN_Pong-v5_eval_23-04-2023_14:18:32/rl-video-step-215976.mp4\n",
      "Moviepy - Building video runs/videos/Swin_Double_DQN_Pong-v5_eval_23-04-2023_14:18:32/rl-video-step-219143.mp4.\n",
      "Moviepy - Writing video runs/videos/Swin_Double_DQN_Pong-v5_eval_23-04-2023_14:18:32/rl-video-step-219143.mp4\n",
      "\n"
     ]
    },
    {
     "name": "stderr",
     "output_type": "stream",
     "text": [
      "                                                                  \r"
     ]
    },
    {
     "name": "stdout",
     "output_type": "stream",
     "text": [
      "Moviepy - Done !\n",
      "Moviepy - video ready runs/videos/Swin_Double_DQN_Pong-v5_eval_23-04-2023_14:18:32/rl-video-step-219143.mp4\n",
      "Moviepy - Building video runs/videos/Swin_Double_DQN_Pong-v5_eval_23-04-2023_14:18:32/rl-video-step-222352.mp4.\n",
      "Moviepy - Writing video runs/videos/Swin_Double_DQN_Pong-v5_eval_23-04-2023_14:18:32/rl-video-step-222352.mp4\n",
      "\n"
     ]
    },
    {
     "name": "stderr",
     "output_type": "stream",
     "text": [
      "                                                                  \r"
     ]
    },
    {
     "name": "stdout",
     "output_type": "stream",
     "text": [
      "Moviepy - Done !\n",
      "Moviepy - video ready runs/videos/Swin_Double_DQN_Pong-v5_eval_23-04-2023_14:18:32/rl-video-step-222352.mp4\n",
      "Moviepy - Building video runs/videos/Swin_Double_DQN_Pong-v5_eval_23-04-2023_14:18:32/rl-video-step-225909.mp4.\n",
      "Moviepy - Writing video runs/videos/Swin_Double_DQN_Pong-v5_eval_23-04-2023_14:18:32/rl-video-step-225909.mp4\n",
      "\n"
     ]
    },
    {
     "name": "stderr",
     "output_type": "stream",
     "text": [
      "                                                                  \r"
     ]
    },
    {
     "name": "stdout",
     "output_type": "stream",
     "text": [
      "Moviepy - Done !\n",
      "Moviepy - video ready runs/videos/Swin_Double_DQN_Pong-v5_eval_23-04-2023_14:18:32/rl-video-step-225909.mp4\n",
      "Moviepy - Building video runs/videos/Swin_Double_DQN_Pong-v5_eval_23-04-2023_14:18:32/rl-video-step-228357.mp4.\n",
      "Moviepy - Writing video runs/videos/Swin_Double_DQN_Pong-v5_eval_23-04-2023_14:18:32/rl-video-step-228357.mp4\n",
      "\n"
     ]
    },
    {
     "name": "stderr",
     "output_type": "stream",
     "text": [
      "                                                                  \r"
     ]
    },
    {
     "name": "stdout",
     "output_type": "stream",
     "text": [
      "Moviepy - Done !\n",
      "Moviepy - video ready runs/videos/Swin_Double_DQN_Pong-v5_eval_23-04-2023_14:18:32/rl-video-step-228357.mp4\n",
      "Moviepy - Building video runs/videos/Swin_Double_DQN_Pong-v5_eval_23-04-2023_14:18:32/rl-video-step-232260.mp4.\n",
      "Moviepy - Writing video runs/videos/Swin_Double_DQN_Pong-v5_eval_23-04-2023_14:18:32/rl-video-step-232260.mp4\n",
      "\n"
     ]
    },
    {
     "name": "stderr",
     "output_type": "stream",
     "text": [
      "                                                                  \r"
     ]
    },
    {
     "name": "stdout",
     "output_type": "stream",
     "text": [
      "Moviepy - Done !\n",
      "Moviepy - video ready runs/videos/Swin_Double_DQN_Pong-v5_eval_23-04-2023_14:18:32/rl-video-step-232260.mp4\n",
      "Moviepy - Building video runs/videos/Swin_Double_DQN_Pong-v5_eval_23-04-2023_14:18:32/rl-video-step-235961.mp4.\n",
      "Moviepy - Writing video runs/videos/Swin_Double_DQN_Pong-v5_eval_23-04-2023_14:18:32/rl-video-step-235961.mp4\n",
      "\n"
     ]
    },
    {
     "name": "stderr",
     "output_type": "stream",
     "text": [
      "                                                                  \r"
     ]
    },
    {
     "name": "stdout",
     "output_type": "stream",
     "text": [
      "Moviepy - Done !\n",
      "Moviepy - video ready runs/videos/Swin_Double_DQN_Pong-v5_eval_23-04-2023_14:18:32/rl-video-step-235961.mp4\n",
      "Moviepy - Building video runs/videos/Swin_Double_DQN_Pong-v5_eval_23-04-2023_14:18:32/rl-video-step-240196.mp4.\n",
      "Moviepy - Writing video runs/videos/Swin_Double_DQN_Pong-v5_eval_23-04-2023_14:18:32/rl-video-step-240196.mp4\n",
      "\n"
     ]
    },
    {
     "name": "stderr",
     "output_type": "stream",
     "text": [
      "                                                                  \r"
     ]
    },
    {
     "name": "stdout",
     "output_type": "stream",
     "text": [
      "Moviepy - Done !\n",
      "Moviepy - video ready runs/videos/Swin_Double_DQN_Pong-v5_eval_23-04-2023_14:18:32/rl-video-step-240196.mp4\n",
      "Moviepy - Building video runs/videos/Swin_Double_DQN_Pong-v5_eval_23-04-2023_14:18:32/rl-video-step-243364.mp4.\n",
      "Moviepy - Writing video runs/videos/Swin_Double_DQN_Pong-v5_eval_23-04-2023_14:18:32/rl-video-step-243364.mp4\n",
      "\n"
     ]
    },
    {
     "name": "stderr",
     "output_type": "stream",
     "text": [
      "                                                                  \r"
     ]
    },
    {
     "name": "stdout",
     "output_type": "stream",
     "text": [
      "Moviepy - Done !\n",
      "Moviepy - video ready runs/videos/Swin_Double_DQN_Pong-v5_eval_23-04-2023_14:18:32/rl-video-step-243364.mp4\n",
      "Moviepy - Building video runs/videos/Swin_Double_DQN_Pong-v5_eval_23-04-2023_14:18:32/rl-video-step-245583.mp4.\n",
      "Moviepy - Writing video runs/videos/Swin_Double_DQN_Pong-v5_eval_23-04-2023_14:18:32/rl-video-step-245583.mp4\n",
      "\n"
     ]
    },
    {
     "name": "stderr",
     "output_type": "stream",
     "text": [
      "                                                                  \r"
     ]
    },
    {
     "name": "stdout",
     "output_type": "stream",
     "text": [
      "Moviepy - Done !\n",
      "Moviepy - video ready runs/videos/Swin_Double_DQN_Pong-v5_eval_23-04-2023_14:18:32/rl-video-step-245583.mp4\n",
      "Moviepy - Building video runs/videos/Swin_Double_DQN_Pong-v5_eval_23-04-2023_14:18:32/rl-video-step-247768.mp4.\n",
      "Moviepy - Writing video runs/videos/Swin_Double_DQN_Pong-v5_eval_23-04-2023_14:18:32/rl-video-step-247768.mp4\n",
      "\n"
     ]
    },
    {
     "name": "stderr",
     "output_type": "stream",
     "text": [
      "                                                                  "
     ]
    },
    {
     "name": "stdout",
     "output_type": "stream",
     "text": [
      "Moviepy - Done !\n",
      "Moviepy - video ready runs/videos/Swin_Double_DQN_Pong-v5_eval_23-04-2023_14:18:32/rl-video-step-247768.mp4\n"
     ]
    },
    {
     "name": "stderr",
     "output_type": "stream",
     "text": [
      "\r"
     ]
    }
   ],
   "source": [
    "agent = DQNAgent(name=\"Swin_Double_DQN_Pong-v5\")\n",
    "agent.evaluate(q_net_path=\"trained_agents/Swin_Double_DQN_Pong-v5.pth\")"
   ],
   "metadata": {
    "collapsed": false,
    "ExecuteTime": {
     "start_time": "2023-04-23T14:18:30.315265Z",
     "end_time": "2023-04-23T14:47:22.287682Z"
    }
   }
  }
 ],
 "metadata": {
  "kernelspec": {
   "display_name": "Python 3 (ipykernel)",
   "language": "python",
   "name": "python3"
  },
  "language_info": {
   "codemirror_mode": {
    "name": "ipython",
    "version": 3
   },
   "file_extension": ".py",
   "mimetype": "text/x-python",
   "name": "python",
   "nbconvert_exporter": "python",
   "pygments_lexer": "ipython3",
   "version": "3.8.16"
  }
 },
 "nbformat": 4,
 "nbformat_minor": 1
}
