{
 "cells": [
  {
   "cell_type": "code",
   "execution_count": null,
   "metadata": {
    "ExecuteTime": {
     "end_time": "2023-04-11T14:41:52.344018Z",
     "start_time": "2023-04-11T14:41:52.303266Z"
    }
   },
   "outputs": [],
   "source": [
    "from datetime import datetime\n",
    "\n",
    "import torch\n",
    "\n",
    "from gymnasium import spaces\n",
    "\n",
    "from stable_baselines3 import DQN\n",
    "from stable_baselines3.common.callbacks import CheckpointCallback\n",
    "from stable_baselines3.common.preprocessing import is_image_space\n",
    "from stable_baselines3.dqn.policies import BaseFeaturesExtractor\n",
    "from stable_baselines3.common.env_util import make_atari_env\n",
    "from stable_baselines3.common.vec_env import VecFrameStack\n",
    "\n",
    "from transformers import SwinModel, SwinConfig"
   ]
  },
  {
   "cell_type": "code",
   "execution_count": null,
   "metadata": {
    "ExecuteTime": {
     "end_time": "2023-04-11T14:41:53.471596Z",
     "start_time": "2023-04-11T14:41:53.455128Z"
    }
   },
   "outputs": [],
   "source": [
    "class SwinDQN(BaseFeaturesExtractor):\n",
    "    def __init__(self, observation_space: spaces.Box, features_dim: int = 384, normalized_image: bool = False,):\n",
    "        assert isinstance(observation_space, spaces.Box), (\n",
    "            \"SwinDQN must be used with a gym.spaces.Box \",\n",
    "            f\"observation space, not {observation_space}\",\n",
    "        )\n",
    "        super().__init__(observation_space, features_dim)\n",
    "        # We assume CxHxW images (channels first)\n",
    "        # Re-ordering will be done by pre-preprocessing or wrapper\n",
    "        assert is_image_space(observation_space, check_channels=False, normalized_image=normalized_image), (\n",
    "            \"You should use SwinDQN \"\n",
    "            f\"only with images not with {observation_space}\\n\"\n",
    "            \"(you are probably using `CnnPolicy` instead of `MlpPolicy` or `MultiInputPolicy`)\\n\"\n",
    "            \"If you are using `VecNormalize` or already normalized channel-first images \"\n",
    "            \"you should pass `normalize_images=False`: \\n\"\n",
    "            \"https://stable-baselines3.readthedocs.io/en/master/guide/custom_env.html\"\n",
    "        )\n",
    "\n",
    "        num_input_channels = observation_space.shape[0]\n",
    "        config = SwinConfig(\n",
    "            image_size=84,\n",
    "            patch_size=3,\n",
    "            num_channels=num_input_channels,\n",
    "            embed_dim=96,\n",
    "            depths=[2, 3, 2],\n",
    "            num_heads=[3, 3, 6],\n",
    "            window_size=7,\n",
    "            mlp_ratio=4.0,\n",
    "            drop_path_rate=0.1,\n",
    "        )\n",
    "\n",
    "        self.swin = SwinModel(config)\n",
    "\n",
    "    def forward(self, observations: torch.Tensor) -> torch.Tensor:\n",
    "        # Input is already normalised by stable baselines\n",
    "        return self.swin(observations).pooler_output"
   ]
  },
  {
   "cell_type": "code",
   "execution_count": null,
   "metadata": {
    "ExecuteTime": {
     "end_time": "2023-04-11T14:41:56.537085Z",
     "start_time": "2023-04-11T14:41:54.906932Z"
    }
   },
   "outputs": [],
   "source": [
    "env = make_atari_env(\"ALE/Breakout-v5\", n_envs=1, seed=42, env_kwargs={\"full_action_space\": False, \"frameskip\": 1})\n",
    "# Frame-stacking with 4 frames\n",
    "env = VecFrameStack(env, n_stack=4)\n",
    "\n",
    "NAME = \"Swin_DQN_Breakout-v5\"\n",
    "\n",
    "current_datetime_str = datetime.now().strftime(\"%d-%m-%Y_%H:%M:%S\")\n",
    "\n",
    "checkpoint_callback = CheckpointCallback(\n",
    "    save_freq=500_000,\n",
    "    save_path=f\"runs/checkpoints/{NAME}_{current_datetime_str}\",\n",
    "    name_prefix=NAME,\n",
    "    save_replay_buffer=True,\n",
    "    verbose=2\n",
    "    \n",
    ")\n",
    "\n",
    "policy_kwargs = dict(\n",
    "    features_extractor_class=SwinDQN,\n",
    "    net_arch=[],\n",
    ")\n",
    "\n",
    "model = DQN(\"CnnPolicy\",\n",
    "            env,\n",
    "            policy_kwargs=policy_kwargs,\n",
    "            verbose=1,\n",
    "            tensorboard_log=\"runs/logs/\",\n",
    "            batch_size=32,\n",
    "            buffer_size=10_000,\n",
    "            exploration_final_eps=0.01,\n",
    "            exploration_fraction=0.1,\n",
    "            gradient_steps=1,\n",
    "            learning_rate=0.0001,\n",
    "            learning_starts=100_000,\n",
    "            optimize_memory_usage=True,\n",
    "            replay_buffer_kwargs={\"handle_timeout_termination\": False},\n",
    "            target_update_interval=1000,\n",
    "            train_freq=4,)\n",
    "model.policy"
   ]
  },
  {
   "cell_type": "code",
   "execution_count": null,
   "metadata": {},
   "outputs": [],
   "source": [
    "model.learn(10_000_000, tb_log_name=f\"{NAME}_{current_datetime_str}\", callback=checkpoint_callback)\n",
    "\n",
    "# Save at the end of training\n",
    "model.save(f\"runs/final_saves/{NAME}_{current_datetime_str}/{NAME}\")\n",
    "model.save_replay_buffer(f\"runs/final_saves/{NAME}_{current_datetime_str}/{NAME}\")"
   ]
  }
 ],
 "metadata": {
  "kernelspec": {
   "display_name": "Python 3 (ipykernel)",
   "language": "python",
   "name": "python3"
  },
  "language_info": {
   "codemirror_mode": {
    "name": "ipython",
    "version": 3
   },
   "file_extension": ".py",
   "mimetype": "text/x-python",
   "name": "python",
   "nbconvert_exporter": "python",
   "pygments_lexer": "ipython3",
   "version": "3.8.16"
  }
 },
 "nbformat": 4,
 "nbformat_minor": 4
}
