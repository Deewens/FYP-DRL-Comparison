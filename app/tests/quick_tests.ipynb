{
 "cells": [
  {
   "cell_type": "code",
   "execution_count": 15,
   "metadata": {
    "collapsed": true,
    "ExecuteTime": {
     "start_time": "2023-04-14T13:39:06.109138Z",
     "end_time": "2023-04-14T13:39:06.116313Z"
    }
   },
   "outputs": [],
   "source": [
    "import os\n",
    "from configparser import ConfigParser"
   ]
  },
  {
   "cell_type": "code",
   "execution_count": 24,
   "outputs": [
    {
     "name": "stdout",
     "output_type": "stream",
     "text": [
      "\"Pong-v5 with CNN Double DQN\"\n",
      "\"Pong-v5 with CNN Double DQN\"\n",
      "\"Breakout-v4 with CNN Double DQN\"\n",
      "\"Breakout-v4 with CNN Double DQN\"\n"
     ]
    }
   ],
   "source": [
    "dirs_name = os.listdir(\"agents/\")\n",
    "config_parser = ConfigParser()\n",
    "\n",
    "for dir_name in dirs_name:\n",
    "    config_parser.read(os.path.join(\"agents\", dir_name, \"config.ini\"))\n",
    "    #print(config_parser.get(\"metadata\", \"display_name\"))\n",
    "    print(config_parser[\"metadata\"].get(\"display_name\"))"
   ],
   "metadata": {
    "collapsed": false,
    "ExecuteTime": {
     "start_time": "2023-04-14T13:41:02.109015Z",
     "end_time": "2023-04-14T13:41:02.128430Z"
    }
   }
  },
  {
   "cell_type": "code",
   "execution_count": 15,
   "outputs": [
    {
     "ename": "TypeError",
     "evalue": "listdir: path should be string, bytes, os.PathLike, integer or None, not list",
     "output_type": "error",
     "traceback": [
      "\u001B[0;31m---------------------------------------------------------------------------\u001B[0m",
      "\u001B[0;31mTypeError\u001B[0m                                 Traceback (most recent call last)",
      "Cell \u001B[0;32mIn[15], line 2\u001B[0m\n\u001B[1;32m      1\u001B[0m config_parser \u001B[38;5;241m=\u001B[39m configparser\u001B[38;5;241m.\u001B[39mConfigParser()\n\u001B[0;32m----> 2\u001B[0m config_files \u001B[38;5;241m=\u001B[39m config_parser\u001B[38;5;241m.\u001B[39mread([file \u001B[38;5;28;01mfor\u001B[39;00m file \u001B[38;5;129;01min\u001B[39;00m \u001B[43mos\u001B[49m\u001B[38;5;241;43m.\u001B[39;49m\u001B[43mlistdir\u001B[49m\u001B[43m(\u001B[49m\u001B[43mdirs_name\u001B[49m\u001B[43m)\u001B[49m])\n\u001B[1;32m      3\u001B[0m config_files\n",
      "\u001B[0;31mTypeError\u001B[0m: listdir: path should be string, bytes, os.PathLike, integer or None, not list"
     ]
    }
   ],
   "source": [
    "config_parser = ConfigParser()\n",
    "config_files = config_parser.read([file for file in os.path.join()])\n",
    "config_files"
   ],
   "metadata": {
    "collapsed": false,
    "ExecuteTime": {
     "start_time": "2023-04-13T16:32:38.559779Z",
     "end_time": "2023-04-13T16:32:38.600872Z"
    }
   }
  },
  {
   "cell_type": "code",
   "execution_count": 26,
   "outputs": [
    {
     "name": "stderr",
     "output_type": "stream",
     "text": [
      "A.L.E: Arcade Learning Environment (version 0.8.1+53f58b7)\n",
      "[Powered by Stella]\n"
     ]
    },
    {
     "name": "stdout",
     "output_type": "stream",
     "text": [
      "(210, 160, 3)\n",
      "(210, 160, 3)\n",
      "(210, 160, 3)\n",
      "(210, 160, 3)\n",
      "(210, 160, 3)\n",
      "(210, 160, 3)\n",
      "(210, 160, 3)\n",
      "(210, 160, 3)\n",
      "(210, 160, 3)\n",
      "(210, 160, 3)\n",
      "(210, 160, 3)\n",
      "(210, 160, 3)\n",
      "(210, 160, 3)\n",
      "(210, 160, 3)\n",
      "(210, 160, 3)\n",
      "(210, 160, 3)\n",
      "(210, 160, 3)\n",
      "(210, 160, 3)\n",
      "(210, 160, 3)\n",
      "(210, 160, 3)\n",
      "(210, 160, 3)\n",
      "(210, 160, 3)\n",
      "(210, 160, 3)\n",
      "(210, 160, 3)\n",
      "(210, 160, 3)\n",
      "(210, 160, 3)\n",
      "(210, 160, 3)\n",
      "(210, 160, 3)\n",
      "(210, 160, 3)\n",
      "(210, 160, 3)\n",
      "(210, 160, 3)\n",
      "(210, 160, 3)\n",
      "(210, 160, 3)\n",
      "(210, 160, 3)\n",
      "(210, 160, 3)\n",
      "(210, 160, 3)\n",
      "(210, 160, 3)\n",
      "(210, 160, 3)\n",
      "(210, 160, 3)\n",
      "(210, 160, 3)\n",
      "(210, 160, 3)\n",
      "(210, 160, 3)\n",
      "(210, 160, 3)\n",
      "(210, 160, 3)\n",
      "(210, 160, 3)\n",
      "(210, 160, 3)\n",
      "(210, 160, 3)\n",
      "(210, 160, 3)\n",
      "(210, 160, 3)\n",
      "(210, 160, 3)\n",
      "(210, 160, 3)\n",
      "(210, 160, 3)\n",
      "(210, 160, 3)\n",
      "(210, 160, 3)\n",
      "(210, 160, 3)\n",
      "(210, 160, 3)\n",
      "(210, 160, 3)\n",
      "(210, 160, 3)\n",
      "(210, 160, 3)\n",
      "(210, 160, 3)\n",
      "(210, 160, 3)\n",
      "(210, 160, 3)\n",
      "(210, 160, 3)\n",
      "(210, 160, 3)\n",
      "(210, 160, 3)\n",
      "(210, 160, 3)\n",
      "(210, 160, 3)\n",
      "(210, 160, 3)\n",
      "(210, 160, 3)\n",
      "(210, 160, 3)\n",
      "(210, 160, 3)\n",
      "(210, 160, 3)\n",
      "(210, 160, 3)\n",
      "(210, 160, 3)\n",
      "(210, 160, 3)\n",
      "(210, 160, 3)\n",
      "(210, 160, 3)\n",
      "(210, 160, 3)\n",
      "(210, 160, 3)\n",
      "(210, 160, 3)\n",
      "(210, 160, 3)\n",
      "(210, 160, 3)\n",
      "(210, 160, 3)\n",
      "(210, 160, 3)\n",
      "(210, 160, 3)\n",
      "(210, 160, 3)\n",
      "(210, 160, 3)\n",
      "(210, 160, 3)\n",
      "(210, 160, 3)\n",
      "(210, 160, 3)\n",
      "(210, 160, 3)\n",
      "(210, 160, 3)\n",
      "(210, 160, 3)\n",
      "(210, 160, 3)\n",
      "(210, 160, 3)\n",
      "(210, 160, 3)\n",
      "(210, 160, 3)\n",
      "(210, 160, 3)\n",
      "(210, 160, 3)\n",
      "(210, 160, 3)\n",
      "(210, 160, 3)\n",
      "(210, 160, 3)\n",
      "(210, 160, 3)\n",
      "(210, 160, 3)\n",
      "(210, 160, 3)\n",
      "(210, 160, 3)\n",
      "(210, 160, 3)\n",
      "(210, 160, 3)\n",
      "(210, 160, 3)\n",
      "(210, 160, 3)\n",
      "(210, 160, 3)\n",
      "(210, 160, 3)\n",
      "(210, 160, 3)\n",
      "(210, 160, 3)\n",
      "(210, 160, 3)\n",
      "(210, 160, 3)\n",
      "(210, 160, 3)\n",
      "(210, 160, 3)\n",
      "(210, 160, 3)\n",
      "(210, 160, 3)\n",
      "(210, 160, 3)\n",
      "(210, 160, 3)\n",
      "(210, 160, 3)\n",
      "(210, 160, 3)\n",
      "(210, 160, 3)\n",
      "(210, 160, 3)\n",
      "(210, 160, 3)\n",
      "(210, 160, 3)\n",
      "(210, 160, 3)\n",
      "(210, 160, 3)\n",
      "(210, 160, 3)\n",
      "(210, 160, 3)\n",
      "(210, 160, 3)\n",
      "(210, 160, 3)\n",
      "(210, 160, 3)\n",
      "(210, 160, 3)\n",
      "(210, 160, 3)\n",
      "(210, 160, 3)\n",
      "(210, 160, 3)\n",
      "(210, 160, 3)\n",
      "(210, 160, 3)\n",
      "(210, 160, 3)\n",
      "(210, 160, 3)\n",
      "(210, 160, 3)\n",
      "(210, 160, 3)\n",
      "(210, 160, 3)\n",
      "(210, 160, 3)\n",
      "(210, 160, 3)\n",
      "(210, 160, 3)\n",
      "(210, 160, 3)\n",
      "(210, 160, 3)\n",
      "(210, 160, 3)\n",
      "(210, 160, 3)\n",
      "(210, 160, 3)\n",
      "(210, 160, 3)\n",
      "(210, 160, 3)\n",
      "(210, 160, 3)\n",
      "(210, 160, 3)\n",
      "(210, 160, 3)\n",
      "(210, 160, 3)\n",
      "(210, 160, 3)\n",
      "(210, 160, 3)\n",
      "(210, 160, 3)\n",
      "(210, 160, 3)\n",
      "(210, 160, 3)\n",
      "(210, 160, 3)\n",
      "(210, 160, 3)\n",
      "(210, 160, 3)\n",
      "(210, 160, 3)\n",
      "(210, 160, 3)\n",
      "(210, 160, 3)\n",
      "(210, 160, 3)\n",
      "(210, 160, 3)\n",
      "(210, 160, 3)\n",
      "(210, 160, 3)\n",
      "(210, 160, 3)\n",
      "(210, 160, 3)\n",
      "(210, 160, 3)\n",
      "(210, 160, 3)\n",
      "(210, 160, 3)\n",
      "(210, 160, 3)\n",
      "(210, 160, 3)\n",
      "(210, 160, 3)\n",
      "(210, 160, 3)\n",
      "(210, 160, 3)\n",
      "(210, 160, 3)\n",
      "(210, 160, 3)\n",
      "(210, 160, 3)\n",
      "(210, 160, 3)\n",
      "(210, 160, 3)\n",
      "(210, 160, 3)\n",
      "(210, 160, 3)\n",
      "(210, 160, 3)\n",
      "(210, 160, 3)\n",
      "(210, 160, 3)\n",
      "(210, 160, 3)\n",
      "(210, 160, 3)\n",
      "(210, 160, 3)\n",
      "(210, 160, 3)\n",
      "(210, 160, 3)\n"
     ]
    },
    {
     "name": "stderr",
     "output_type": "stream",
     "text": [
      "/home/deewens/miniconda3/envs/pytorch/lib/python3.8/site-packages/gymnasium/utils/passive_env_checker.py:364: UserWarning: \u001B[33mWARN: No render fps was declared in the environment (env.metadata['render_fps'] is None or not defined), rendering may occur at inconsistent fps.\u001B[0m\n",
      "  logger.warn(\n"
     ]
    }
   ],
   "source": [
    "import gymnasium as gym\n",
    "\n",
    "env = gym.make(\"ALE/Pong-v5\", render_mode=\"rgb_array\", autoreset=True, full_action_space=False, frameskip=1)\n",
    "\n",
    "\n",
    "env.reset()\n",
    "for i in range(200):\n",
    "    img = env.render()\n",
    "    print(img.shape)"
   ],
   "metadata": {
    "collapsed": false,
    "ExecuteTime": {
     "start_time": "2023-04-14T17:45:44.268720Z",
     "end_time": "2023-04-14T17:45:44.765336Z"
    }
   }
  },
  {
   "cell_type": "code",
   "execution_count": 32,
   "outputs": [
    {
     "data": {
      "text/plain": "160"
     },
     "execution_count": 32,
     "metadata": {},
     "output_type": "execute_result"
    }
   ],
   "source": [
    "env.observation_space.shape[1]"
   ],
   "metadata": {
    "collapsed": false,
    "ExecuteTime": {
     "start_time": "2023-04-14T18:27:17.266429Z",
     "end_time": "2023-04-14T18:27:17.271575Z"
    }
   }
  }
 ],
 "metadata": {
  "kernelspec": {
   "display_name": "Python 3",
   "language": "python",
   "name": "python3"
  },
  "language_info": {
   "codemirror_mode": {
    "name": "ipython",
    "version": 2
   },
   "file_extension": ".py",
   "mimetype": "text/x-python",
   "name": "python",
   "nbconvert_exporter": "python",
   "pygments_lexer": "ipython2",
   "version": "2.7.6"
  }
 },
 "nbformat": 4,
 "nbformat_minor": 0
}
