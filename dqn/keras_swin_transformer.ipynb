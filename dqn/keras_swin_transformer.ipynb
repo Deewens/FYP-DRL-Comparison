{
 "cells": [
  {
   "cell_type": "code",
   "execution_count": 4,
   "metadata": {
    "collapsed": true
   },
   "outputs": [],
   "source": [
    "import tensorflow as tf\n",
    "from keras import layers\n",
    "from swin_transformer import SwinTransformer, PatchExtract, PatchEmbedding, PatchMerging"
   ]
  },
  {
   "cell_type": "code",
   "execution_count": 11,
   "outputs": [],
   "source": [
    "# configuration = SwinConfig(\n",
    "#     image_size=84,\n",
    "#     patch_size=3,\n",
    "#     num_channels=4,\n",
    "#     embed_dim=96,\n",
    "#     depths=[2, 3, 2],\n",
    "#     num_heads=[3, 3, 6],\n",
    "#     window_size=7,\n",
    "#     mlp_ratio=4.0,\n",
    "#     drop_path_rate=0.1,\n",
    "# )\n",
    "\n",
    "input_shape = (84, 84, 4)\n",
    "\n",
    "embed_dim = 96\n",
    "patch_size = (3, 3)\n",
    "num_heads = [3, 3, 6]\n",
    "window_size = 7\n",
    "num_mlp = 384\n",
    "qkv_bias=True\n",
    "dropout_rate=0.1\n",
    "shift_size = 1\n",
    "\n",
    "num_patch_x = input_shape[0] // patch_size[0]\n",
    "num_patch_y = input_shape[1] // patch_size[1]"
   ],
   "metadata": {
    "collapsed": false
   }
  },
  {
   "cell_type": "code",
   "execution_count": 13,
   "outputs": [],
   "source": [
    "input = layers.Input(input_shape)\n",
    "x = tf.keras.layers.Rescaling(scale=1.0 / 255)(input)\n",
    "x = PatchExtract(patch_size)(x)\n",
    "x = PatchEmbedding(num_patch_x * num_patch_y, embed_dim)(x)\n",
    "x = SwinTransformer(\n",
    "    dim=embed_dim,\n",
    "    num_patch=(num_patch_x, num_patch_y),\n",
    "    num_heads=num_heads[0],\n",
    "    window_size=window_size,\n",
    "    shift_size=0,\n",
    "    num_mlp=num_mlp,\n",
    "    qkv_bias=qkv_bias,\n",
    "    dropout_rate=dropout_rate,\n",
    ")(x)\n",
    "x = SwinTransformer(\n",
    "    dim=embed_dim,\n",
    "    num_patch=(num_patch_x, num_patch_y),\n",
    "    num_heads=num_heads[1],\n",
    "    window_size=window_size,\n",
    "    shift_size=shift_size,\n",
    "    num_mlp=num_mlp,\n",
    "    qkv_bias=qkv_bias,\n",
    "    dropout_rate=dropout_rate,\n",
    ")(x)\n",
    "x = SwinTransformer(\n",
    "    dim=embed_dim,\n",
    "    num_patch=(num_patch_x, num_patch_y),\n",
    "    num_heads=num_heads[2],\n",
    "    window_size=window_size,\n",
    "    shift_size=shift_size,\n",
    "    num_mlp=num_mlp,\n",
    "    qkv_bias=qkv_bias,\n",
    "    dropout_rate=dropout_rate,\n",
    ")(x)\n",
    "x = PatchMerging((num_patch_x, num_patch_y), embed_dim=embed_dim)(x)\n",
    "x = layers.GlobalAveragePooling1D()(x)\n",
    "output = layers.Dense(6, activation=\"linear\")(x)\n",
    "model = tf.keras.Model(input, output)"
   ],
   "metadata": {
    "collapsed": false
   }
  },
  {
   "cell_type": "code",
   "execution_count": 15,
   "outputs": [
    {
     "name": "stdout",
     "output_type": "stream",
     "text": [
      "Model: \"model\"\n",
      "_________________________________________________________________\n",
      " Layer (type)                Output Shape              Param #   \n",
      "=================================================================\n",
      " input_4 (InputLayer)        [(None, 84, 84, 4)]       0         \n",
      "                                                                 \n",
      " rescaling_3 (Rescaling)     (None, 84, 84, 4)         0         \n",
      "                                                                 \n",
      " patch_extract_3 (PatchExtra  (None, 784, 36)          0         \n",
      " ct)                                                             \n",
      "                                                                 \n",
      " patch_embedding_1 (PatchEmb  (None, 784, 96)          78816     \n",
      " edding)                                                         \n",
      "                                                                 \n",
      " swin_transformer_1 (SwinTra  (None, 784, 96)          114748    \n",
      " nsformer)                                                       \n",
      "                                                                 \n",
      " swin_transformer_2 (SwinTra  (None, 784, 96)          153164    \n",
      " nsformer)                                                       \n",
      "                                                                 \n",
      " swin_transformer_3 (SwinTra  (None, 784, 96)          153671    \n",
      " nsformer)                                                       \n",
      "                                                                 \n",
      " patch_merging (PatchMerging  (None, 196, 192)         73728     \n",
      " )                                                               \n",
      "                                                                 \n",
      " global_average_pooling1d (G  (None, 192)              0         \n",
      " lobalAveragePooling1D)                                          \n",
      "                                                                 \n",
      " dense_15 (Dense)            (None, 6)                 1158      \n",
      "                                                                 \n",
      "=================================================================\n",
      "Total params: 575,285\n",
      "Trainable params: 491,250\n",
      "Non-trainable params: 84,035\n",
      "_________________________________________________________________\n"
     ]
    }
   ],
   "source": [
    "model.summary()"
   ],
   "metadata": {
    "collapsed": false
   }
  }
 ],
 "metadata": {
  "kernelspec": {
   "display_name": "Python 3",
   "language": "python",
   "name": "python3"
  },
  "language_info": {
   "codemirror_mode": {
    "name": "ipython",
    "version": 2
   },
   "file_extension": ".py",
   "mimetype": "text/x-python",
   "name": "python",
   "nbconvert_exporter": "python",
   "pygments_lexer": "ipython2",
   "version": "2.7.6"
  }
 },
 "nbformat": 4,
 "nbformat_minor": 0
}
