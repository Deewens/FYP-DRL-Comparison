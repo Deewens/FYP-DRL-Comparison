{
 "cells": [
  {
   "cell_type": "code",
   "execution_count": 3,
   "metadata": {
    "collapsed": true
   },
   "outputs": [
    {
     "name": "stderr",
     "output_type": "stream",
     "text": [
      "/home/deewens/miniconda3/envs/tf/lib/python3.9/site-packages/tensorflow_addons/utils/ensure_tf_install.py:53: UserWarning: Tensorflow Addons supports using Python ops for all Tensorflow versions above or equal to 2.9.0 and strictly below 2.12.0 (nightly versions are not supported). \n",
      " The versions of TensorFlow you are currently using is 2.12.0 and is not supported. \n",
      "Some things might work, some things might not.\n",
      "If you were to encounter a bug, do not file an issue.\n",
      "If you want to make sure you're using a tested and supported configuration, either change the TensorFlow version or the TensorFlow Addons's version. \n",
      "You can find the compatibility matrix in TensorFlow Addon's readme:\n",
      "https://github.com/tensorflow/addons\n",
      "  warnings.warn(\n"
     ]
    }
   ],
   "source": [
    "import tensorflow as tf\n",
    "import numpy as np\n",
    "from swin_transformer_tensorflow.model.swin_transformer import SwinTransformer\n",
    "import gymnasium as gym\n",
    "from gymnasium.wrappers import AtariPreprocessing, FrameStack"
   ]
  },
  {
   "cell_type": "code",
   "execution_count": 4,
   "outputs": [
    {
     "name": "stderr",
     "output_type": "stream",
     "text": [
      "A.L.E: Arcade Learning Environment (version 0.8.1+53f58b7)\n",
      "[Powered by Stella]\n"
     ]
    },
    {
     "data": {
      "text/plain": "array([[[[ 52,  52,  52, ...,  87,  87,  87],\n         [ 87,  87,  87, ...,  87,  87,  87],\n         [ 87,  87,  87, ...,  87,  87,  87],\n         ...,\n         [236, 236, 236, ..., 236, 236, 236],\n         [236, 236, 236, ..., 236, 236, 236],\n         [236, 236, 236, ..., 236, 236, 236]],\n\n        [[ 52,  52,  52, ...,  87,  87,  87],\n         [ 87,  87,  87, ...,  87,  87,  87],\n         [ 87,  87,  87, ...,  87,  87,  87],\n         ...,\n         [236, 236, 236, ..., 236, 236, 236],\n         [236, 236, 236, ..., 236, 236, 236],\n         [236, 236, 236, ..., 236, 236, 236]],\n\n        [[ 52,  52,  52, ...,  87,  87,  87],\n         [ 87,  87,  87, ...,  87,  87,  87],\n         [ 87,  87,  87, ...,  87,  87,  87],\n         ...,\n         [236, 236, 236, ..., 236, 236, 236],\n         [236, 236, 236, ..., 236, 236, 236],\n         [236, 236, 236, ..., 236, 236, 236]],\n\n        [[ 52,  52,  52, ...,  87,  87,  87],\n         [ 87,  87,  87, ...,  87,  87,  87],\n         [ 87,  87,  87, ...,  87,  87,  87],\n         ...,\n         [236, 236, 236, ..., 236, 236, 236],\n         [236, 236, 236, ..., 236, 236, 236],\n         [236, 236, 236, ..., 236, 236, 236]]]], dtype=uint8)"
     },
     "execution_count": 4,
     "metadata": {},
     "output_type": "execute_result"
    }
   ],
   "source": [
    "def make_env(env_name=\"ALE/Pong-v5\", seed=42):\n",
    "    env = gym.make(env_name, render_mode=\"rgb_array\", full_action_space=False, frameskip=1)\n",
    "    env = AtariPreprocessing(env)\n",
    "    # env = RecordEpisodeStatistics(env)\n",
    "    env = FrameStack(env, 4)\n",
    "    env.observation_space.seed(seed)\n",
    "    env.action_space.seed(seed)\n",
    "\n",
    "    return env\n",
    "\n",
    "env = make_env()\n",
    "state, _ = env.reset()\n",
    "state = np.array(state)\n",
    "state = np.expand_dims(state, 0)\n",
    "state"
   ],
   "metadata": {
    "collapsed": false
   }
  },
  {
   "cell_type": "code",
   "execution_count": 6,
   "outputs": [
    {
     "name": "stdout",
     "output_type": "stream",
     "text": [
      "Model: \"swin_transformer_atari_block_2\"\n",
      "_________________________________________________________________\n",
      " Layer (type)                Output Shape              Param #   \n",
      "=================================================================\n",
      " rescaling_2 (Rescaling)     multiple                  0         \n",
      "                                                                 \n",
      " swin_transformer_1 (SwinTra  multiple                 5872219   \n",
      " nsformer)                                                       \n",
      "|¯¯¯¯¯¯¯¯¯¯¯¯¯¯¯¯¯¯¯¯¯¯¯¯¯¯¯¯¯¯¯¯¯¯¯¯¯¯¯¯¯¯¯¯¯¯¯¯¯¯¯¯¯¯¯¯¯¯¯¯¯¯¯|\n",
      "| patch_embed_1 (PatchEmbed)  multiple                3744      |\n",
      "|                                                               |\n",
      "| dropout_22 (Dropout)      multiple                  0         |\n",
      "|                                                               |\n",
      "| basic_layers_seq (Sequentia  multiple               5482707   |\n",
      "| l)                                                            |\n",
      "||¯¯¯¯¯¯¯¯¯¯¯¯¯¯¯¯¯¯¯¯¯¯¯¯¯¯¯¯¯¯¯¯¯¯¯¯¯¯¯¯¯¯¯¯¯¯¯¯¯¯¯¯¯¯¯¯¯¯¯¯¯||\n",
      "|| basic_layer_3 (BasicLayer)  multiple              299190    ||\n",
      "||                                                             ||\n",
      "|| basic_layer_4 (BasicLayer)  multiple              1632561   ||\n",
      "||                                                             ||\n",
      "|| basic_layer_5 (BasicLayer)  multiple              3550956   ||\n",
      "|¯¯¯¯¯¯¯¯¯¯¯¯¯¯¯¯¯¯¯¯¯¯¯¯¯¯¯¯¯¯¯¯¯¯¯¯¯¯¯¯¯¯¯¯¯¯¯¯¯¯¯¯¯¯¯¯¯¯¯¯¯¯¯|\n",
      "| layer_normalization_35 (Lay  multiple               768       |\n",
      "| erNormalization)                                              |\n",
      "|                                                               |\n",
      "| adaptive_average_pooling1d_  multiple               0         |\n",
      "| 1 (AdaptiveAveragePooling1D                                   |\n",
      "| )                                                             |\n",
      "|                                                               |\n",
      "| truncated_dense_61 (Truncat  multiple               385000    |\n",
      "| edDense)                                                      |\n",
      "¯¯¯¯¯¯¯¯¯¯¯¯¯¯¯¯¯¯¯¯¯¯¯¯¯¯¯¯¯¯¯¯¯¯¯¯¯¯¯¯¯¯¯¯¯¯¯¯¯¯¯¯¯¯¯¯¯¯¯¯¯¯¯¯¯\n",
      " action (Dense)              multiple                  6006      \n",
      "                                                                 \n",
      "=================================================================\n",
      "Total params: 5,878,225\n",
      "Trainable params: 5,878,225\n",
      "Non-trainable params: 0\n",
      "_________________________________________________________________\n"
     ]
    }
   ],
   "source": [
    "class SwinTransformerAtariBlock(tf.keras.Model):\n",
    "    def __init__(self, num_actions):\n",
    "        super(SwinTransformerAtariBlock, self).__init__()\n",
    "\n",
    "        # Preprocessing phase\n",
    "        self.rescaling = tf.keras.layers.Rescaling(scale=1.0 / 255)\n",
    "        self.swin = SwinTransformer(img_size=84, patch_size=3, in_chans=4, embed_dim=96, depths=[2, 3, 2], num_heads=[3, 3, 6], window_size=7, mlp_ratio=4.0, drop_path_rate=0.1)\n",
    "        self.action_outputs = tf.keras.layers.Dense(num_actions, name=\"action\", activation=\"linear\")\n",
    "\n",
    "    def call(self, inputs, training=None, **kwargs):\n",
    "        rescaled = self.rescaling(inputs)\n",
    "        swin_outputs = self.swin(rescaled)\n",
    "        logits = self.action_outputs(swin_outputs)\n",
    "\n",
    "        return logits\n",
    "\n",
    "    def build(self, input_shape):\n",
    "        self.swin(tf.zeros(input_shape), training=False)\n",
    "\n",
    "#tf.random.set_seed(42)\n",
    "model = SwinTransformerAtariBlock(6)\n",
    "output = model(state, training=False)\n",
    "#output\n",
    "model.summary(expand_nested=True)"
   ],
   "metadata": {
    "collapsed": false
   }
  },
  {
   "cell_type": "markdown",
   "source": [
    "configuration = SwinConfig(\n",
    "     image_size=84,\n",
    "     patch_size=3,\n",
    "     num_channels=4,\n",
    "     embed_dim=96,\n",
    "     depths=[2, 3, 2],\n",
    "     num_heads=[3, 3, 6],\n",
    "     window_size=7,\n",
    "     mlp_ratio=4.0,\n",
    "     drop_path_rate=0.1,\n",
    ")"
   ],
   "metadata": {
    "collapsed": false
   }
  }
 ],
 "metadata": {
  "kernelspec": {
   "display_name": "Python 3",
   "language": "python",
   "name": "python3"
  },
  "language_info": {
   "codemirror_mode": {
    "name": "ipython",
    "version": 2
   },
   "file_extension": ".py",
   "mimetype": "text/x-python",
   "name": "python",
   "nbconvert_exporter": "python",
   "pygments_lexer": "ipython2",
   "version": "2.7.6"
  }
 },
 "nbformat": 4,
 "nbformat_minor": 0
}
