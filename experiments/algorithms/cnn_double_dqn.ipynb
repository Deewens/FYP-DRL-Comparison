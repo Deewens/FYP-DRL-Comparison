{
 "cells": [
  {
   "cell_type": "code",
   "execution_count": null,
   "outputs": [],
   "source": [
    "import torch\n",
    "\n",
    "from double_dqn import DQNAgent\n",
    "from common.typing import HParams\n",
    "\n",
    "device = torch.device(\"cuda\" if torch.cuda.is_available() else \"cpu\")"
   ],
   "metadata": {
    "collapsed": false,
    "ExecuteTime": {
     "start_time": "2023-04-23T13:52:00.478689Z",
     "end_time": "2023-04-23T13:52:00.491443Z"
    }
   }
  },
  {
   "cell_type": "code",
   "execution_count": null,
   "outputs": [],
   "source": [
    "# I use the same hyperparameters as this model: https://huggingface.co/sb3/dqn-PongNoFrameskip-v4\n",
    "hparams_config: HParams = {\n",
    "    \"env_seed\": 42,\n",
    "    \"learning_rate\": 0.0001,\n",
    "    \"loss\": torch.nn.SmoothL1Loss(),\n",
    "    \"max_timesteps\": 10_000_000,\n",
    "    \"target_update_interval\": 1000,\n",
    "    \"learning_starts\": 100_000,\n",
    "    \"train_frequency\": 4,\n",
    "    \"replay_buffer_size\": 10_000,\n",
    "    \"batch_size\": 32,\n",
    "    \"discount_rate\": 0.99,\n",
    "    \"exploration_fraction\": 0.1,\n",
    "    \"exploration_final\": 0.01,\n",
    "}"
   ],
   "metadata": {
    "collapsed": false,
    "ExecuteTime": {
     "start_time": "2023-04-23T13:52:05.188410Z",
     "end_time": "2023-04-23T13:52:05.198163Z"
    }
   }
  },
  {
   "cell_type": "code",
   "execution_count": null,
   "metadata": {
    "ExecuteTime": {
     "start_time": "2023-04-11T19:37:01.291338Z",
     "end_time": "2023-04-12T03:13:14.524312Z"
    }
   },
   "outputs": [],
   "source": [
    "agent = DQNAgent(name=\"CNN_Double_DQN_Pong-v5\", env_id=\"ALE/Pong-v5\", hparams=hparams_config, network_type=\"CNN\")\n",
    "#agent.load_last_checkpoint(\"runs/checkpoints/cnn_ddqn_ALE-Pong-v5_08-04-2023_20:00:00\")\n",
    "agent.run()"
   ]
  },
  {
   "cell_type": "code",
   "execution_count": null,
   "outputs": [],
   "source": [
    "agent = DQNAgent(name=\"CNN_Double_DQN_Breakout-v5\", env_id=\"ALE/Breakout-v5\", hparams=hparams_config, network_type=\"CNN\")\n",
    "agent.run()"
   ],
   "metadata": {
    "collapsed": false
   }
  }
 ],
 "metadata": {
  "kernelspec": {
   "display_name": "Python 3 (ipykernel)",
   "language": "python",
   "name": "python3"
  },
  "language_info": {
   "codemirror_mode": {
    "name": "ipython",
    "version": 3
   },
   "file_extension": ".py",
   "mimetype": "text/x-python",
   "name": "python",
   "nbconvert_exporter": "python",
   "pygments_lexer": "ipython3",
   "version": "3.8.16"
  }
 },
 "nbformat": 4,
 "nbformat_minor": 1
}
