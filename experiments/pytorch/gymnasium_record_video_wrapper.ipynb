{
 "cells": [
  {
   "cell_type": "code",
   "execution_count": null,
   "metadata": {
    "collapsed": true,
    "ExecuteTime": {
     "start_time": "2023-04-09T18:38:53.247507Z",
     "end_time": "2023-04-09T18:38:53.290554Z"
    }
   },
   "outputs": [],
   "source": [
    "import gymnasium as gym\n",
    "from gymnasium.wrappers import AtariPreprocessing, FrameStack, RecordEpisodeStatistics, RecordVideo\n",
    "import imageio\n",
    "import numpy as np"
   ]
  },
  {
   "cell_type": "code",
   "execution_count": null,
   "outputs": [],
   "source": [
    "def make_env(env_name=\"ALE/Pong-v5\", seed=42):\n",
    "    env = gym.make(env_name, render_mode=\"rgb_array\", full_action_space=False, frameskip=1)\n",
    "    env = AtariPreprocessing(env)\n",
    "    env = FrameStack(env, 4)\n",
    "    env = RecordEpisodeStatistics(env)\n",
    "    env = RecordVideo(env, \"test-videos\", episode_trigger=lambda episode: episode % 25 == 0, video_length=1000, name_prefix=\"test\")\n",
    "    env.observation_space.seed(seed)\n",
    "    env.action_space.seed(seed)\n",
    "\n",
    "    return env"
   ],
   "metadata": {
    "collapsed": false,
    "ExecuteTime": {
     "start_time": "2023-04-09T18:27:27.101488Z",
     "end_time": "2023-04-09T18:27:27.142551Z"
    }
   }
  },
  {
   "cell_type": "code",
   "execution_count": null,
   "outputs": [],
   "source": [
    "env = make_env()\n",
    "for i in range(50):\n",
    "    env.reset()\n",
    "    done = False\n",
    "    while not done:\n",
    "        next_state, reward, terminated, truncated, info = env.step(env.action_space.sample())\n",
    "        done = terminated or truncated"
   ],
   "metadata": {
    "collapsed": false,
    "ExecuteTime": {
     "start_time": "2023-04-09T18:27:27.594038Z",
     "end_time": "2023-04-09T18:28:11.098829Z"
    }
   }
  },
  {
   "cell_type": "code",
   "execution_count": null,
   "outputs": [],
   "source": [
    "def make_env(env_name=\"ALE/Pong-v5\", seed=42):\n",
    "    env = gym.make(env_name, render_mode=\"rgb_array\", full_action_space=False, frameskip=1)\n",
    "    env = AtariPreprocessing(env)\n",
    "    env = FrameStack(env, 4)\n",
    "    env = RecordEpisodeStatistics(env)\n",
    "    env.observation_space.seed(seed)\n",
    "    env.action_space.seed(seed)\n",
    "\n",
    "    return env"
   ],
   "metadata": {
    "collapsed": false,
    "ExecuteTime": {
     "start_time": "2023-04-09T18:30:52.611509Z",
     "end_time": "2023-04-09T18:30:52.654958Z"
    }
   }
  },
  {
   "cell_type": "code",
   "execution_count": null,
   "outputs": [],
   "source": [
    "env = make_env()\n",
    "\n",
    "frames = []\n",
    "obs, _ = env.reset()\n",
    "img = env.render()[0]\n",
    "for i in range(350):\n",
    "    frames.append(img)\n",
    "    obs, reward, terminated, truncated, info = env.step(env.action_space.sample())\n",
    "\n",
    "    img = env.render()[0]\n",
    "\n",
    "\n",
    "imageio.mimsave(\"test_gif.gif\", [np.array(img) for i, img in enumerate(frames) if i % 2 == 0], fps=29)"
   ],
   "metadata": {
    "collapsed": false,
    "ExecuteTime": {
     "start_time": "2023-04-09T18:45:37.236349Z",
     "end_time": "2023-04-09T18:45:37.994086Z"
    }
   }
  }
 ],
 "metadata": {
  "kernelspec": {
   "display_name": "Python 3",
   "language": "python",
   "name": "python3"
  },
  "language_info": {
   "codemirror_mode": {
    "name": "ipython",
    "version": 2
   },
   "file_extension": ".py",
   "mimetype": "text/x-python",
   "name": "python",
   "nbconvert_exporter": "python",
   "pygments_lexer": "ipython2",
   "version": "2.7.6"
  }
 },
 "nbformat": 4,
 "nbformat_minor": 0
}
