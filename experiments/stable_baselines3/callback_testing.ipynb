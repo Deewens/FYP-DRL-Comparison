{
 "cells": [
  {
   "cell_type": "code",
   "execution_count": null,
   "metadata": {
    "collapsed": true,
    "ExecuteTime": {
     "start_time": "2023-04-10T16:50:07.213617Z",
     "end_time": "2023-04-10T16:50:10.332213Z"
    }
   },
   "outputs": [],
   "source": [
    "from typing import Dict, Any\n",
    "\n",
    "import gymnasium as gym\n",
    "import numpy as np\n",
    "\n",
    "import torch\n",
    "\n",
    "from stable_baselines3 import DQN\n",
    "from stable_baselines3.common.callbacks import BaseCallback, StopTrainingOnMaxEpisodes, EvalCallback, CheckpointCallback\n",
    "from stable_baselines3.common.evaluation import evaluate_policy\n",
    "from stable_baselines3.common.env_util import make_atari_env\n",
    "from stable_baselines3.common.vec_env import VecFrameStack\n",
    "from stable_baselines3.common.logger import Video"
   ]
  },
  {
   "cell_type": "code",
   "execution_count": null,
   "outputs": [],
   "source": [
    "env = make_atari_env(\"ALE/Pong-v5\", n_envs=4, seed=42, env_kwargs={\"full_action_space\": False, \"frameskip\": 1})\n",
    "# Frame-stacking with 4 frames\n",
    "env = VecFrameStack(env, n_stack=4)\n",
    "#env = gym.wrappers.RecordEpisodeStatistics(env)"
   ],
   "metadata": {
    "collapsed": false,
    "ExecuteTime": {
     "start_time": "2023-04-10T16:50:10.334748Z",
     "end_time": "2023-04-10T16:50:11.672654Z"
    }
   }
  },
  {
   "cell_type": "code",
   "execution_count": null,
   "outputs": [],
   "source": [
    "class VideoRecoderCallback(BaseCallback):\n",
    "    def __init__(self, eval_env: gym.Env, render_frequency: int, num_eval_episodes: int = 1, deterministic: bool = True):\n",
    "        \"\"\"\n",
    "        Record a video of an agent's trajectory traversing ``eval_env`` and logs it to TensorBoard\n",
    "\n",
    "        :param eval_env: A gym environment from which the trajectory is recorded\n",
    "        :param render_frequency: Render the agent's trajectory every eval_freq call of the callback\n",
    "        :param num_eval_episodes: Number of episodes to render\n",
    "        :param deterministic: wether to use deterministic of stochastic policy\n",
    "        \"\"\"\n",
    "        super().__init__()\n",
    "\n",
    "        self._eval_env = eval_env\n",
    "        self._render_frequency = render_frequency\n",
    "        self._num_eval_episodes = num_eval_episodes\n",
    "        self._deterministic = deterministic\n",
    "\n",
    "    def _on_step(self) -> bool:\n",
    "        if self.n_calls % self._render_frequency == 0:\n",
    "            screens = []\n",
    "\n",
    "            def grab_screens(_locals: Dict[str, Any], _globals: Dict[str, Any]) -> None:\n",
    "                \"\"\"\n",
    "                Renders the environment in its current state, recording the screen in the captured `screens` list\n",
    "\n",
    "                :param _locals: A dictionary containing all local variables of the callback's scope\n",
    "                :param _globals: A dictionary containing all global variables of the callback's scope\n",
    "                \"\"\"\n",
    "                screen = self._eval_env.render()\n",
    "                # PyTorch uses C*X*W vs H*W*C gym (and tensorflow) image convention\n",
    "                screens.append(screen.transpose(2, 0, 1))\n",
    "\n",
    "\n",
    "            evaluate_policy(\n",
    "                self.model,\n",
    "                self._eval_env,\n",
    "                callback=grab_screens,\n",
    "                n_eval_episodes=self._num_eval_episodes,\n",
    "                deterministic=self._deterministic\n",
    "            )\n",
    "\n",
    "            self.logger.record(\n",
    "                \"trajectory/video\",\n",
    "                Video(torch.ByteTensor([screens]), fps=40),\n",
    "                exclude=(\"stdout\", \"log\", \"json\", \"csv\"),\n",
    "            )\n",
    "\n",
    "        return True"
   ],
   "metadata": {
    "collapsed": false,
    "ExecuteTime": {
     "start_time": "2023-04-10T13:23:51.484875Z",
     "end_time": "2023-04-10T13:23:51.486736Z"
    }
   }
  },
  {
   "cell_type": "code",
   "execution_count": null,
   "outputs": [],
   "source": [
    "class MeanRewardPerEpisodeMetricCallback(BaseCallback):\n",
    "    def __init__(self, verbose=0):\n",
    "        super().__init__(verbose)\n",
    "        self.episode_count = 0\n",
    "\n",
    "    def _on_step(self) -> bool:\n",
    "        if any(self.locals[\"dones\"]):\n",
    "            print(self.locals[\"num_collected_episodes\"])\n",
    "            self.episode_count += 1\n",
    "            self.logger.record(\"rollout/ep_rew_mean_per_ep\", 5)\n",
    "            self.logger.dump(step=self.episode_count)\n",
    "\n",
    "            #print(self.locals[\"dones\"])\n",
    "            #print(self.episode_count)\n",
    "\n",
    "        #self.episode_count += np.sum(self.locals[\"dones\"]).item()\n",
    "        #print(self.model._episode_num)\n",
    "        return True"
   ],
   "metadata": {
    "collapsed": false,
    "ExecuteTime": {
     "start_time": "2023-04-10T14:25:43.098152Z",
     "end_time": "2023-04-10T14:25:43.141805Z"
    }
   }
  },
  {
   "cell_type": "code",
   "execution_count": null,
   "outputs": [],
   "source": [
    "model = DQN(\"CnnPolicy\",\n",
    "            env,\n",
    "            verbose=1,\n",
    "            tensorboard_log=\"runs/logs/\",\n",
    "            batch_size=32,\n",
    "            buffer_size=10_000,\n",
    "            exploration_final_eps=0.01,\n",
    "            exploration_fraction=0.1,\n",
    "            gradient_steps=1,\n",
    "            learning_rate=0.0001,\n",
    "            learning_starts=100_000,\n",
    "            optimize_memory_usage=True,\n",
    "            replay_buffer_kwargs={\"handle_timeout_termination\": False},\n",
    "            target_update_interval=1000,\n",
    "            train_freq=4,)\n",
    "\n",
    "#model.policy\n",
    "#video_recoder = VideoRecoderCallback(env, render_frequency=5000)\n",
    "#mean_reward_callback = MeanRewardPerEpisodeMetricCallback()"
   ],
   "metadata": {
    "collapsed": false,
    "ExecuteTime": {
     "start_time": "2023-04-10T16:50:11.739206Z",
     "end_time": "2023-04-10T16:50:13.531376Z"
    }
   }
  },
  {
   "cell_type": "code",
   "execution_count": null,
   "outputs": [],
   "source": [
    "img = torch.rand([1, 4, 84, 84], device=\"cuda\")\n",
    "output = model.policy(img)\n",
    "output"
   ],
   "metadata": {
    "collapsed": false,
    "ExecuteTime": {
     "start_time": "2023-04-10T16:20:11.234360Z",
     "end_time": "2023-04-10T16:20:11.254999Z"
    }
   }
  },
  {
   "cell_type": "code",
   "execution_count": null,
   "outputs": [],
   "source": [
    "model.learn(total_timesteps=10_000_000, tb_log_name=\"cnn_dqn\")\n",
    "\n",
    "#model.save(\"DQN_Pong-v5\")"
   ],
   "metadata": {
    "collapsed": false,
    "ExecuteTime": {
     "start_time": "2023-04-08T20:08:05.090879Z",
     "end_time": "2023-04-08T20:08:05.457953Z"
    }
   }
  },
  {
   "cell_type": "code",
   "execution_count": null,
   "outputs": [],
   "source": [
    "model.save(\"runs/checkpoints/cnn_dqn_4709668_steps\")"
   ],
   "metadata": {
    "collapsed": false,
    "ExecuteTime": {
     "start_time": "2023-04-10T19:27:55.114996Z",
     "end_time": "2023-04-10T19:27:55.192139Z"
    }
   }
  },
  {
   "cell_type": "code",
   "execution_count": null,
   "outputs": [],
   "source": [
    "model.save_replay_buffer(\"runs/checkpoints/cnn_dqn_rb_4709668_steps\")"
   ],
   "metadata": {
    "collapsed": false,
    "ExecuteTime": {
     "start_time": "2023-04-10T19:28:23.468679Z",
     "end_time": "2023-04-10T19:28:24.220706Z"
    }
   }
  },
  {
   "cell_type": "code",
   "execution_count": null,
   "outputs": [],
   "source": [
    "model.replay_buffer.size()"
   ],
   "metadata": {
    "collapsed": false,
    "ExecuteTime": {
     "start_time": "2023-04-10T19:28:31.062757Z",
     "end_time": "2023-04-10T19:28:31.070653Z"
    }
   }
  }
 ],
 "metadata": {
  "kernelspec": {
   "display_name": "Python 3",
   "language": "python",
   "name": "python3"
  },
  "language_info": {
   "codemirror_mode": {
    "name": "ipython",
    "version": 2
   },
   "file_extension": ".py",
   "mimetype": "text/x-python",
   "name": "python",
   "nbconvert_exporter": "python",
   "pygments_lexer": "ipython2",
   "version": "2.7.6"
  }
 },
 "nbformat": 4,
 "nbformat_minor": 0
}
