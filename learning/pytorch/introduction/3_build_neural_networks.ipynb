{
 "cells": [
  {
   "cell_type": "markdown",
   "source": [
    "# Build the Neural Network\n",
    "https://pytorch.org/tutorials/beginner/basics/buildmodel_tutorial.html"
   ],
   "metadata": {
    "collapsed": false
   }
  },
  {
   "cell_type": "code",
   "execution_count": 2,
   "metadata": {
    "collapsed": true,
    "ExecuteTime": {
     "start_time": "2023-04-05T16:38:41.037391Z",
     "end_time": "2023-04-05T16:38:42.144103Z"
    }
   },
   "outputs": [],
   "source": [
    "import os\n",
    "import torch\n",
    "from torch import nn\n",
    "from torch.utils.data import DataLoader\n",
    "from torchvision import datasets, transforms"
   ]
  },
  {
   "cell_type": "markdown",
   "source": [
    "## Get Device for Training"
   ],
   "metadata": {
    "collapsed": false
   }
  },
  {
   "cell_type": "code",
   "execution_count": 4,
   "outputs": [
    {
     "name": "stdout",
     "output_type": "stream",
     "text": [
      "Using cuda device\n"
     ]
    }
   ],
   "source": [
    "device = (\n",
    "    \"cuda\"\n",
    "    if torch.cuda.is_available()\n",
    "    else \"mps\"\n",
    "    if torch.backends.mps.is_available()\n",
    "    else \"cpu\"\n",
    ")\n",
    "print(f\"Using {device} device\")"
   ],
   "metadata": {
    "collapsed": false,
    "ExecuteTime": {
     "start_time": "2023-04-05T16:38:56.159700Z",
     "end_time": "2023-04-05T16:38:56.165007Z"
    }
   }
  },
  {
   "cell_type": "markdown",
   "source": [
    "## Define the Class"
   ],
   "metadata": {
    "collapsed": false
   }
  },
  {
   "cell_type": "code",
   "execution_count": 6,
   "outputs": [],
   "source": [
    "# PyTorch networks are defined by subclassing `nn.Module`\n",
    "class NeuralNetwork(nn.Module):\n",
    "    def __init__(self):\n",
    "        super().__init__()\n",
    "        self.flatten = nn.Flatten()\n",
    "        self.linear_relu_stack = nn.Sequential(\n",
    "            nn.Linear(28*28, 512),\n",
    "            nn.ReLU(),\n",
    "            nn.Linear(512, 512),\n",
    "            nn.ReLU(),\n",
    "            nn.Linear(512, 10)\n",
    "        )\n",
    "\n",
    "    def forward(self, x):\n",
    "        # Every nn.Module subclass implements the operations on input data in the `forward` method\n",
    "        x = self.flatten(x)\n",
    "        logits = self.linear_relu_stack(x)\n",
    "        return logits"
   ],
   "metadata": {
    "collapsed": false,
    "ExecuteTime": {
     "start_time": "2023-04-05T16:41:18.283797Z",
     "end_time": "2023-04-05T16:41:18.326234Z"
    }
   }
  },
  {
   "cell_type": "code",
   "execution_count": 7,
   "outputs": [
    {
     "name": "stdout",
     "output_type": "stream",
     "text": [
      "NeuralNetwork(\n",
      "  (flatten): Flatten(start_dim=1, end_dim=-1)\n",
      "  (linear_relu_stack): Sequential(\n",
      "    (0): Linear(in_features=784, out_features=512, bias=True)\n",
      "    (1): ReLU()\n",
      "    (2): Linear(in_features=512, out_features=512, bias=True)\n",
      "    (3): ReLU()\n",
      "    (4): Linear(in_features=512, out_features=10, bias=True)\n",
      "  )\n",
      ")\n"
     ]
    }
   ],
   "source": [
    "# We need to create an instance of NeuralNetwork, and move it to the `device`, and print its structure\n",
    "model = NeuralNetwork().to(device)\n",
    "print(model)"
   ],
   "metadata": {
    "collapsed": false,
    "ExecuteTime": {
     "start_time": "2023-04-05T16:41:54.526517Z",
     "end_time": "2023-04-05T16:41:55.637740Z"
    }
   }
  },
  {
   "cell_type": "code",
   "execution_count": 8,
   "outputs": [
    {
     "name": "stdout",
     "output_type": "stream",
     "text": [
      "Predicted class: tensor([0], device='cuda:0')\n"
     ]
    }
   ],
   "source": [
    "# To use the model, we pass it the input data. This executes the model's `forward`, along with some background operations. DO NOT CLASS `model.forward()` DIRECTLY!\n",
    "X = torch.rand(1, 28, 28, device=device)\n",
    "logits = model(X)\n",
    "pred_probab = nn.Softmax(dim=1)(logits)\n",
    "y_pred = pred_probab.argmax(1)\n",
    "print(f\"Predicted class: {y_pred}\")"
   ],
   "metadata": {
    "collapsed": false,
    "ExecuteTime": {
     "start_time": "2023-04-05T16:44:19.321419Z",
     "end_time": "2023-04-05T16:44:19.862399Z"
    }
   }
  },
  {
   "cell_type": "markdown",
   "source": [
    "## Model Layers"
   ],
   "metadata": {
    "collapsed": false
   }
  },
  {
   "cell_type": "code",
   "execution_count": 12,
   "outputs": [
    {
     "name": "stdout",
     "output_type": "stream",
     "text": [
      "torch.Size([3, 28, 28])\n"
     ]
    }
   ],
   "source": [
    "input_image = torch.rand(3, 28, 28)\n",
    "print(input_image.size()) # Same as input_image.shape"
   ],
   "metadata": {
    "collapsed": false,
    "ExecuteTime": {
     "start_time": "2023-04-05T16:45:24.235863Z",
     "end_time": "2023-04-05T16:45:24.245715Z"
    }
   }
  },
  {
   "cell_type": "markdown",
   "source": [
    "### nn.Flatten\n",
    "We initialize the `nn.Flatten` layer to convert each 2D 28x28 image into a contiguous array of 784 pixel values (the minibatch dimension (at dim=0) is maintained)"
   ],
   "metadata": {
    "collapsed": false
   }
  },
  {
   "cell_type": "code",
   "execution_count": 13,
   "outputs": [
    {
     "name": "stdout",
     "output_type": "stream",
     "text": [
      "torch.Size([3, 784])\n"
     ]
    }
   ],
   "source": [
    "flatten = nn.Flatten()\n",
    "flat_image = flatten(input_image)\n",
    "print(flat_image.size())"
   ],
   "metadata": {
    "collapsed": false,
    "ExecuteTime": {
     "start_time": "2023-04-05T16:46:48.005425Z",
     "end_time": "2023-04-05T16:46:48.050199Z"
    }
   }
  },
  {
   "cell_type": "markdown",
   "source": [
    "### nn.Linear\n",
    "The `linear layer` is a module that applies a linear transformation on the input using its stored weights and biases. (I think it is the same as Dense layer in TensorFlow)"
   ],
   "metadata": {
    "collapsed": false
   }
  },
  {
   "cell_type": "code",
   "execution_count": 14,
   "outputs": [
    {
     "name": "stdout",
     "output_type": "stream",
     "text": [
      "torch.Size([3, 20])\n"
     ]
    }
   ],
   "source": [
    "layer1 = nn.Linear(in_features=28*28, out_features=20)\n",
    "hidden1 = layer1(flat_image)\n",
    "print(hidden1.size())"
   ],
   "metadata": {
    "collapsed": false,
    "ExecuteTime": {
     "start_time": "2023-04-05T16:48:04.142248Z",
     "end_time": "2023-04-05T16:48:04.199341Z"
    }
   }
  },
  {
   "cell_type": "markdown",
   "source": [
    "### nn.ReLu\n",
    "Non-linear activations are what create the complex mappings between the model's inputs and outputs. They are applied after linear transformations to introduce nonlinearity, hepling neural networks learn a wide variety of phenomena.\n",
    "\n",
    "In this model, we use `nn.ReLu` between our linear layers, but there's other activations to introduce non-linearity in your model."
   ],
   "metadata": {
    "collapsed": false
   }
  },
  {
   "cell_type": "code",
   "execution_count": 15,
   "outputs": [
    {
     "name": "stdout",
     "output_type": "stream",
     "text": [
      "Before ReLu: tensor([[ 0.0015,  0.4725, -0.1556,  0.1000, -0.2319,  0.2583, -0.1844,  0.7144,\n",
      "          0.0709,  0.7565,  0.2777,  0.1006, -0.2272,  0.3192, -0.2666, -0.5671,\n",
      "          0.3815,  0.2911,  0.4225,  0.4485],\n",
      "        [ 0.1559,  0.2325, -0.4059, -0.1381,  0.1776,  0.1807, -0.1633,  0.8494,\n",
      "          0.3910,  0.7399, -0.0390, -0.0426,  0.0373,  0.5506, -0.3072, -0.4336,\n",
      "          0.0163, -0.0978,  0.4908,  0.3832],\n",
      "        [ 0.1031,  0.3739,  0.1862,  0.1278, -0.2375,  0.2948, -0.1271,  0.6053,\n",
      "         -0.0962,  0.6935, -0.1288,  0.1346,  0.0280, -0.0835, -0.3107, -0.4693,\n",
      "          0.0804,  0.2733,  0.2636,  0.6471]], grad_fn=<AddmmBackward0>)\n",
      "\n",
      "\n",
      "After ReLU: tensor([[0.0015, 0.4725, 0.0000, 0.1000, 0.0000, 0.2583, 0.0000, 0.7144, 0.0709,\n",
      "         0.7565, 0.2777, 0.1006, 0.0000, 0.3192, 0.0000, 0.0000, 0.3815, 0.2911,\n",
      "         0.4225, 0.4485],\n",
      "        [0.1559, 0.2325, 0.0000, 0.0000, 0.1776, 0.1807, 0.0000, 0.8494, 0.3910,\n",
      "         0.7399, 0.0000, 0.0000, 0.0373, 0.5506, 0.0000, 0.0000, 0.0163, 0.0000,\n",
      "         0.4908, 0.3832],\n",
      "        [0.1031, 0.3739, 0.1862, 0.1278, 0.0000, 0.2948, 0.0000, 0.6053, 0.0000,\n",
      "         0.6935, 0.0000, 0.1346, 0.0280, 0.0000, 0.0000, 0.0000, 0.0804, 0.2733,\n",
      "         0.2636, 0.6471]], grad_fn=<ReluBackward0>)\n"
     ]
    }
   ],
   "source": [
    "print(f\"Before ReLu: {hidden1}\\n\\n\")\n",
    "hidden1 = nn.ReLU()(hidden1)\n",
    "print(f\"After ReLU: {hidden1}\")"
   ],
   "metadata": {
    "collapsed": false,
    "ExecuteTime": {
     "start_time": "2023-04-05T16:49:49.396726Z",
     "end_time": "2023-04-05T16:49:49.452843Z"
    }
   }
  },
  {
   "cell_type": "markdown",
   "source": [
    "### nn.Sequential\n",
    "`nn.Sequential` is an ordered container of modules. The data is passed through all the modules in the same order as defined. We can use sequential containers to put together a quick network like seq_modules."
   ],
   "metadata": {
    "collapsed": false
   }
  },
  {
   "cell_type": "code",
   "execution_count": 16,
   "outputs": [],
   "source": [
    "seq_modules = nn.Sequential(\n",
    "    flatten,\n",
    "    layer1,\n",
    "    nn.ReLU(),\n",
    "    nn.Linear(20, 10)\n",
    ")\n",
    "input_image = torch.rand(3, 28, 28)\n",
    "logits = seq_modules(input_image)"
   ],
   "metadata": {
    "collapsed": false,
    "ExecuteTime": {
     "start_time": "2023-04-05T16:51:37.446260Z",
     "end_time": "2023-04-05T16:51:37.482705Z"
    }
   }
  },
  {
   "cell_type": "markdown",
   "source": [
    "### nn.Softmax\n",
    "The last linear layer of the neural network returns logits - raw values in [-Infinity, Infinity] - which are passed to the `nn.Softmax` module. The logits are scaled to values [0, 1], representing the model's predicted probabilities for each class. `dim` parameter indicates the dimension along which the values must sum to 1."
   ],
   "metadata": {
    "collapsed": false
   }
  },
  {
   "cell_type": "code",
   "execution_count": 18,
   "outputs": [
    {
     "data": {
      "text/plain": "tensor([[0.0996, 0.0913, 0.0842, 0.1049, 0.1112, 0.1222, 0.1011, 0.0878, 0.0989,\n         0.0988],\n        [0.0940, 0.0979, 0.0776, 0.1078, 0.1086, 0.1198, 0.1081, 0.0934, 0.0913,\n         0.1015],\n        [0.0963, 0.0968, 0.0695, 0.1144, 0.0928, 0.1323, 0.1098, 0.1023, 0.0879,\n         0.0979]], grad_fn=<SoftmaxBackward0>)"
     },
     "execution_count": 18,
     "metadata": {},
     "output_type": "execute_result"
    }
   ],
   "source": [
    "softmax = nn.Softmax(dim=1)\n",
    "pred_probab = softmax(logits)\n",
    "pred_probab"
   ],
   "metadata": {
    "collapsed": false,
    "ExecuteTime": {
     "start_time": "2023-04-05T16:54:12.553199Z",
     "end_time": "2023-04-05T16:54:12.561978Z"
    }
   }
  },
  {
   "cell_type": "markdown",
   "source": [
    "## Model Parameters\n",
    "Many layers inside a neural network are parameterized, i.e. have associated weights and biases that are optimizer during training. Subclassing `nn.Module` automatically tracks all fields defined inside your model object, and makes all parameters accessible using your model's `parameters()` or `named_parameters` methods.\n",
    "\n",
    "In this example, we iterate over each parameter, and print its size and a preview of its values."
   ],
   "metadata": {
    "collapsed": false
   }
  },
  {
   "cell_type": "code",
   "execution_count": 19,
   "outputs": [
    {
     "name": "stdout",
     "output_type": "stream",
     "text": [
      "Model structure: NeuralNetwork(\n",
      "  (flatten): Flatten(start_dim=1, end_dim=-1)\n",
      "  (linear_relu_stack): Sequential(\n",
      "    (0): Linear(in_features=784, out_features=512, bias=True)\n",
      "    (1): ReLU()\n",
      "    (2): Linear(in_features=512, out_features=512, bias=True)\n",
      "    (3): ReLU()\n",
      "    (4): Linear(in_features=512, out_features=10, bias=True)\n",
      "  )\n",
      ")\n",
      "\n",
      "\n",
      "Layer: linear_relu_stack.0.weight | Size: torch.Size([512, 784]) | Values: tensor([[-0.0021,  0.0132,  0.0164,  ..., -0.0067,  0.0095,  0.0306],\n",
      "        [-0.0297,  0.0014,  0.0021,  ..., -0.0027,  0.0227,  0.0177]],\n",
      "       device='cuda:0', grad_fn=<SliceBackward0>) \n",
      "\n",
      "Layer: linear_relu_stack.0.bias | Size: torch.Size([512]) | Values: tensor([-0.0255,  0.0098], device='cuda:0', grad_fn=<SliceBackward0>) \n",
      "\n",
      "Layer: linear_relu_stack.2.weight | Size: torch.Size([512, 512]) | Values: tensor([[-0.0193,  0.0434,  0.0431,  ...,  0.0294, -0.0331,  0.0020],\n",
      "        [ 0.0142,  0.0257, -0.0108,  ...,  0.0164, -0.0149, -0.0213]],\n",
      "       device='cuda:0', grad_fn=<SliceBackward0>) \n",
      "\n",
      "Layer: linear_relu_stack.2.bias | Size: torch.Size([512]) | Values: tensor([0.0232, 0.0430], device='cuda:0', grad_fn=<SliceBackward0>) \n",
      "\n",
      "Layer: linear_relu_stack.4.weight | Size: torch.Size([10, 512]) | Values: tensor([[-0.0321, -0.0055, -0.0217,  ...,  0.0174, -0.0130,  0.0037],\n",
      "        [-0.0384,  0.0008,  0.0253,  ..., -0.0303, -0.0370, -0.0136]],\n",
      "       device='cuda:0', grad_fn=<SliceBackward0>) \n",
      "\n",
      "Layer: linear_relu_stack.4.bias | Size: torch.Size([10]) | Values: tensor([0.0200, 0.0083], device='cuda:0', grad_fn=<SliceBackward0>) \n",
      "\n"
     ]
    }
   ],
   "source": [
    "print(f\"Model structure: {model}\\n\\n\")\n",
    "\n",
    "for name, param in model.named_parameters():\n",
    "    print(f\"Layer: {name} | Size: {param.size()} | Values: {param[:2]} \\n\")"
   ],
   "metadata": {
    "collapsed": false,
    "ExecuteTime": {
     "start_time": "2023-04-05T16:56:44.625635Z",
     "end_time": "2023-04-05T16:56:44.669707Z"
    }
   }
  },
  {
   "cell_type": "code",
   "execution_count": null,
   "outputs": [],
   "source": [],
   "metadata": {
    "collapsed": false
   }
  }
 ],
 "metadata": {
  "kernelspec": {
   "display_name": "Python 3",
   "language": "python",
   "name": "python3"
  },
  "language_info": {
   "codemirror_mode": {
    "name": "ipython",
    "version": 2
   },
   "file_extension": ".py",
   "mimetype": "text/x-python",
   "name": "python",
   "nbconvert_exporter": "python",
   "pygments_lexer": "ipython2",
   "version": "2.7.6"
  }
 },
 "nbformat": 4,
 "nbformat_minor": 0
}
