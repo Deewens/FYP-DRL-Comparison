{
 "cells": [
  {
   "cell_type": "markdown",
   "source": [
    "# Record a Video and make a GIF of a trained Agent\n",
    "- **Required package: `pip install moviepy`\n",
    "[https://stable-baselines3.readthedocs.io/en/master/guide/examples.html#record-a-video](https://stable-baselines3.readthedocs.io/en/master/guide/examples.html#record-a-video)"
   ],
   "metadata": {
    "collapsed": false
   }
  },
  {
   "cell_type": "code",
   "execution_count": 1,
   "metadata": {
    "collapsed": true,
    "ExecuteTime": {
     "start_time": "2023-04-09T18:41:48.550375Z",
     "end_time": "2023-04-09T18:42:04.143326Z"
    }
   },
   "outputs": [],
   "source": [
    "import gymnasium as gym\n",
    "from stable_baselines3.common.vec_env import VecVideoRecorder, DummyVecEnv"
   ]
  },
  {
   "cell_type": "code",
   "execution_count": 2,
   "outputs": [
    {
     "name": "stdout",
     "output_type": "stream",
     "text": [
      "Saving video to /home/deewens/Documents/Studies/Fourth Year Project/Sources/RL-and-NN-Experiments/learning/stable_baselines3/logs/videos/random-agent-CartPole-v1-step-0-to-step-100.mp4\n",
      "Moviepy - Building video /home/deewens/Documents/Studies/Fourth Year Project/Sources/RL-and-NN-Experiments/learning/stable_baselines3/logs/videos/random-agent-CartPole-v1-step-0-to-step-100.mp4.\n",
      "Moviepy - Writing video /home/deewens/Documents/Studies/Fourth Year Project/Sources/RL-and-NN-Experiments/learning/stable_baselines3/logs/videos/random-agent-CartPole-v1-step-0-to-step-100.mp4\n",
      "\n"
     ]
    },
    {
     "name": "stderr",
     "output_type": "stream",
     "text": [
      "                                                              "
     ]
    },
    {
     "name": "stdout",
     "output_type": "stream",
     "text": [
      "Moviepy - Done !\n",
      "Moviepy - video ready /home/deewens/Documents/Studies/Fourth Year Project/Sources/RL-and-NN-Experiments/learning/stable_baselines3/logs/videos/random-agent-CartPole-v1-step-0-to-step-100.mp4\n"
     ]
    },
    {
     "name": "stderr",
     "output_type": "stream",
     "text": [
      "\r"
     ]
    }
   ],
   "source": [
    "env_id = \"CartPole-v1\"\n",
    "video_folder = \"logs/videos/\"\n",
    "video_length = 100\n",
    "\n",
    "env = DummyVecEnv([lambda: gym.make(env_id, render_mode=\"rgb_array\")])\n",
    "\n",
    "obs = env.reset()\n",
    "\n",
    "# Record the video starting at the first step\n",
    "env = VecVideoRecorder(env, video_folder, record_video_trigger=lambda x: x == 0, video_length=video_length, name_prefix=f\"random-agent-{env_id}\")\n",
    "\n",
    "env.reset()\n",
    "for _ in range(video_length + 1):\n",
    "    action = [env.action_space.sample()]\n",
    "    obs, _, _, _ = env.step(action)\n",
    "\n",
    "# Save the video\n",
    "env.close()"
   ],
   "metadata": {
    "collapsed": false,
    "ExecuteTime": {
     "start_time": "2023-04-08T15:24:27.405744Z",
     "end_time": "2023-04-08T15:24:27.942495Z"
    }
   }
  },
  {
   "cell_type": "markdown",
   "source": [
    "## Make a GIF of a Trained Agent"
   ],
   "metadata": {
    "collapsed": false
   }
  },
  {
   "cell_type": "code",
   "execution_count": 2,
   "outputs": [],
   "source": [
    "import imageio\n",
    "import numpy as np\n",
    "\n",
    "from stable_baselines3 import A2C"
   ],
   "metadata": {
    "collapsed": false,
    "ExecuteTime": {
     "start_time": "2023-04-09T18:42:07.773781Z",
     "end_time": "2023-04-09T18:42:07.788120Z"
    }
   }
  },
  {
   "cell_type": "code",
   "execution_count": 3,
   "outputs": [
    {
     "name": "stdout",
     "output_type": "stream",
     "text": [
      "Learning in progress...\n",
      "Learning done.\n",
      "(350, 400, 600, 3)\n"
     ]
    }
   ],
   "source": [
    "print(\"Learning in progress...\")\n",
    "model = A2C(\"MlpPolicy\", \"LunarLander-v2\")#.learn(100_000)\n",
    "print(\"Learning done.\")\n",
    "\n",
    "images = []\n",
    "obs = model.env.reset()\n",
    "img = model.env.render(mode=\"rgb_array\")\n",
    "for i in range(350):\n",
    "    images.append(img)\n",
    "    action, _ = model.predict(obs)\n",
    "    obs, _, _, _ = model.env.step(action)\n",
    "\n",
    "    img = model.env.render(mode=\"rgb_array\")\n",
    "\n",
    "print(np.array(images).shape)\n",
    "#imageio.mimsave(\"lander_a2c.gif\", [np.array(img) for i, img in enumerate(images) if i % 2 == 0], fps=29)"
   ],
   "metadata": {
    "collapsed": false,
    "ExecuteTime": {
     "start_time": "2023-04-09T18:42:17.794107Z",
     "end_time": "2023-04-09T18:42:43.685301Z"
    }
   }
  }
 ],
 "metadata": {
  "kernelspec": {
   "display_name": "Python 3",
   "language": "python",
   "name": "python3"
  },
  "language_info": {
   "codemirror_mode": {
    "name": "ipython",
    "version": 2
   },
   "file_extension": ".py",
   "mimetype": "text/x-python",
   "name": "python",
   "nbconvert_exporter": "python",
   "pygments_lexer": "ipython2",
   "version": "2.7.6"
  }
 },
 "nbformat": 4,
 "nbformat_minor": 0
}
