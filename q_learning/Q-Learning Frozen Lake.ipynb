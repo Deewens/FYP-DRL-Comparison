{
 "cells": [
  {
   "cell_type": "code",
   "execution_count": 2,
   "metadata": {
    "collapsed": true
   },
   "outputs": [],
   "source": [
    "import numpy as np\n",
    "import gymnasium as gym\n",
    "import random\n",
    "import time\n",
    "from IPython.display import clear_output"
   ]
  },
  {
   "cell_type": "code",
   "execution_count": 3,
   "outputs": [],
   "source": [
    "env = gym.make('FrozenLake-v1', render_mode='ansi')"
   ],
   "metadata": {
    "collapsed": false
   }
  },
  {
   "cell_type": "markdown",
   "source": [
    "## Create the Q-Table\n",
    "We create the Q-Table and initialize all the Q-values to zero for each state-action pair.\n",
    "The number of rows in the table is equivalent to the size of the **state space** (or **observation space**) and the number of columns is equivalent to the size of the **action space**."
   ],
   "metadata": {
    "collapsed": false
   }
  },
  {
   "cell_type": "code",
   "execution_count": 5,
   "outputs": [
    {
     "name": "stdout",
     "output_type": "stream",
     "text": [
      "4\n",
      "16\n"
     ]
    }
   ],
   "source": [
    "action_space_size = env.action_space.n\n",
    "observation_space_size = env.observation_space.n\n",
    "print(action_space_size)\n",
    "print(observation_space_size)"
   ],
   "metadata": {
    "collapsed": false
   }
  },
  {
   "cell_type": "code",
   "execution_count": 6,
   "outputs": [
    {
     "data": {
      "text/plain": "array([[0., 0., 0., 0.],\n       [0., 0., 0., 0.],\n       [0., 0., 0., 0.],\n       [0., 0., 0., 0.],\n       [0., 0., 0., 0.],\n       [0., 0., 0., 0.],\n       [0., 0., 0., 0.],\n       [0., 0., 0., 0.],\n       [0., 0., 0., 0.],\n       [0., 0., 0., 0.],\n       [0., 0., 0., 0.],\n       [0., 0., 0., 0.],\n       [0., 0., 0., 0.],\n       [0., 0., 0., 0.],\n       [0., 0., 0., 0.],\n       [0., 0., 0., 0.]])"
     },
     "execution_count": 6,
     "metadata": {},
     "output_type": "execute_result"
    }
   ],
   "source": [
    "q_table = np.zeros((observation_space_size, action_space_size))\n",
    "q_table\n",
    "# Now, we have the q_table filled with zeros where the rows correspond to each state of the environment and each columns correspond to the possible actions"
   ],
   "metadata": {
    "collapsed": false
   }
  },
  {
   "cell_type": "markdown",
   "source": [
    "## Initialise the Q-Learning Parameters (Hyperparameters)\n",
    "\n",
    "We need to initialise all the parameter used mainly:\n",
    "- The number of maximum episodes we are going to train the agent on\n",
    "- The maximum number of step per episode\n",
    "- The learning rate (which is **alpha**)\n",
    "- The discount rate (which is **gamma**)\n",
    "- The exploration rate (which is **epsilon**)\n",
    "- The minimum and maximum exploration rate (epsilon). Because epsilon is a number between zero and one, we set the it to be (0.01 <= eps <= 1)\n",
    "- The exploration decay rate (**epsilon decay**). This corresponds to the decay we substract to the exploration rate each episodes."
   ],
   "metadata": {
    "collapsed": false
   }
  },
  {
   "cell_type": "code",
   "execution_count": 7,
   "outputs": [],
   "source": [
    "num_episodes = 10000\n",
    "max_steps_per_episode = 100\n",
    "\n",
    "learning_rate = 0.1 # Alpha. We choose 0.1 as an arbitrary value\n",
    "discount_rate = 0.99 # Gamma. We choose 0.99 as an arbitrary value\n",
    "\n",
    "exploration_rate = 1 # Epsilon. First epsilon value is always 1 because at the start, we don't have any information useful in our Q-Table (all zeros)\n",
    "max_exploration_rate = 1\n",
    "min_exploration_rate = 0.01\n",
    "exploration_rate_decay = 0.01 # We choose 0.001 to decay the exploration rate, again it is arbitrary."
   ],
   "metadata": {
    "collapsed": false
   }
  },
  {
   "cell_type": "markdown",
   "source": [
    "## Q-Learning Algorithm\n",
    "Here, we code the Q-Learning algorithm training loop which will update the Q-Table according thanks to the Q-Learning formula and the others hyperparameters.\n",
    "\n",
    "Q-Value formula:\n",
    "$$\\begin{equation*} q^{new}\\left( s,a\\right) =\\left( 1-\\alpha \\right) ~\\underset{\\text{old value} }{\\underbrace{q\\left( s,a\\right) }\\rule[-0.05in]{0in}{0.2in} \\rule[-0.05in]{0in}{0.2in}\\rule[-0.1in]{0in}{0.3in}}+\\alpha \\overset{\\text{ learned value}}{\\overbrace{\\left(\n",
    "                                                R_{t+1}+\\gamma \\max_{a^{^{\\prime }}}q\\left( s^{\\prime },a^{\\prime }\\right) \\right) }} \\end{equation*}$$\n",
    "\n",
    "This formula is used to update the Q-Values in the Q-Table."
   ],
   "metadata": {
    "collapsed": false
   }
  },
  {
   "cell_type": "code",
   "execution_count": 8,
   "outputs": [],
   "source": [
    "rewards_all_episodes = [] # Just store the sequential list of reward for each episodes for further statistics calculation\n",
    "\n",
    "for episode in range(num_episodes):\n",
    "    state, _ = env.reset()\n",
    "    done = False\n",
    "    rewards_current_episode = 0\n",
    "\n",
    "    for step in range(max_steps_per_episode):\n",
    "        # We choose to either explore the environment or exploit the known Q_value. This exploration depends on the current exploration rate which gives just the probability for the agent to explore or exploit.\n",
    "        exploration_rate_threshold = random.uniform(0, 1) # Generate a random number between 0 and 1 (0 and 1 are included)\n",
    "        if exploration_rate_threshold > exploration_rate:\n",
    "            action = np.argmax(q_table[state]) # argmax return the indices of the maximum values\n",
    "        else:\n",
    "            action = env.action_space.sample()\n",
    "\n",
    "        # We can now take the action\n",
    "        new_state, reward, terminated, truncated, info = env.step(action)\n",
    "\n",
    "        # After the action has been taken, we needs to update the Q-value for that state-action par in the Q-table.\n",
    "        # This is done using the Q-Value formula.\n",
    "        # Alpha = learning_rate\n",
    "        # Gamma = discount_rate\n",
    "        q_table[state, action] = (1 - learning_rate) * q_table[state, action] + learning_rate * (reward + discount_rate * np.max(q_table[new_state]))\n",
    "\n",
    "        state = new_state #  The new state is now the current state\n",
    "        rewards_current_episode += reward\n",
    "\n",
    "        if terminated:\n",
    "            break\n",
    "\n",
    "    # After this episode, we need to decay the exploration rate using the Exponential decay formula:\n",
    "    # https://en.wikipedia.org/wiki/Exponential_decay\n",
    "    # The exponential decay formula just means that the exploration rate decreases or decays at a rate proportional to its current value.\n",
    "    exploration_rate = min_exploration_rate + (max_exploration_rate - min_exploration_rate) * np.exp(-exploration_rate_decay * episode)\n",
    "\n",
    "    rewards_all_episodes.append(rewards_current_episode)"
   ],
   "metadata": {
    "collapsed": false
   }
  },
  {
   "cell_type": "markdown",
   "source": [
    "## Statistics calculation\n",
    "At the end of the algorithm, we want to calculate the average reward per thousand episodes"
   ],
   "metadata": {
    "collapsed": false
   }
  },
  {
   "cell_type": "code",
   "execution_count": 9,
   "outputs": [
    {
     "name": "stdout",
     "output_type": "stream",
     "text": [
      "Average reward per thousand episodes:\n",
      "\n",
      "1000 :  0.0\n",
      "2000 :  0.0\n",
      "3000 :  0.0\n",
      "4000 :  0.0\n",
      "5000 :  0.0\n",
      "6000 :  0.0\n",
      "7000 :  0.0\n",
      "8000 :  0.0\n",
      "9000 :  0.0\n",
      "10000 :  0.0\n"
     ]
    }
   ],
   "source": [
    "rewards_per_thousand_episodes = np.split(np.array(rewards_all_episodes), num_episodes/1000)\n",
    "print(\"Average reward per thousand episodes:\\n\")\n",
    "count = 1000\n",
    "for r in rewards_per_thousand_episodes:\n",
    "    print(count, \": \", str(sum(r/1000)))\n",
    "    count += 1000"
   ],
   "metadata": {
    "collapsed": false
   }
  },
  {
   "cell_type": "markdown",
   "source": [
    "## Test the trained agent on a game of Frozen Lake\n"
   ],
   "metadata": {
    "collapsed": false
   }
  },
  {
   "cell_type": "code",
   "execution_count": 11,
   "outputs": [
    {
     "name": "stdout",
     "output_type": "stream",
     "text": [
      "None\n",
      "The agent fell through a hole!\n"
     ]
    }
   ],
   "source": [
    "test_env = gym.make('FrozenLake-v1', render_mode='human')\n",
    "for episode in range(3):\n",
    "    state, _ = test_env.reset()\n",
    "    for step in range(max_steps_per_episode):\n",
    "        clear_output(wait=True)\n",
    "        print(test_env.render())\n",
    "        time.sleep(0.3)\n",
    "\n",
    "        # Take the best action from the Q-Table\n",
    "        action = np.argmax(q_table[state])\n",
    "        new_state, reward, terminated, truncated, info = test_env.step(action)\n",
    "\n",
    "        if terminated:\n",
    "            clear_output(wait=True)\n",
    "            print(test_env.render())\n",
    "            if reward == 1:\n",
    "                print(\"The agent reached the goal!\")\n",
    "                time.sleep(3)\n",
    "            else:\n",
    "                print(\"The agent fell through a hole!\")\n",
    "                time.sleep(3)\n",
    "                clear_output(wait=True)\n",
    "            break\n",
    "\n",
    "        state = new_state\n",
    "\n",
    "test_env.close()"
   ],
   "metadata": {
    "collapsed": false
   }
  },
  {
   "cell_type": "code",
   "execution_count": null,
   "outputs": [],
   "source": [],
   "metadata": {
    "collapsed": false
   }
  }
 ],
 "metadata": {
  "kernelspec": {
   "display_name": "Python 3",
   "language": "python",
   "name": "python3"
  },
  "language_info": {
   "codemirror_mode": {
    "name": "ipython",
    "version": 2
   },
   "file_extension": ".py",
   "mimetype": "text/x-python",
   "name": "python",
   "nbconvert_exporter": "python",
   "pygments_lexer": "ipython2",
   "version": "2.7.6"
  }
 },
 "nbformat": 4,
 "nbformat_minor": 0
}
